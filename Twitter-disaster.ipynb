{
 "cells": [
  {
   "cell_type": "markdown",
   "metadata": {},
   "source": [
    "## Upload datasets"
   ]
  },
  {
   "cell_type": "code",
   "execution_count": 33,
   "metadata": {},
   "outputs": [
    {
     "data": {
      "text/html": [
       "<div>\n",
       "<style scoped>\n",
       "    .dataframe tbody tr th:only-of-type {\n",
       "        vertical-align: middle;\n",
       "    }\n",
       "\n",
       "    .dataframe tbody tr th {\n",
       "        vertical-align: top;\n",
       "    }\n",
       "\n",
       "    .dataframe thead th {\n",
       "        text-align: right;\n",
       "    }\n",
       "</style>\n",
       "<table border=\"1\" class=\"dataframe\">\n",
       "  <thead>\n",
       "    <tr style=\"text-align: right;\">\n",
       "      <th></th>\n",
       "      <th>id</th>\n",
       "      <th>keyword</th>\n",
       "      <th>location</th>\n",
       "      <th>text</th>\n",
       "      <th>target</th>\n",
       "    </tr>\n",
       "  </thead>\n",
       "  <tbody>\n",
       "    <tr>\n",
       "      <th>0</th>\n",
       "      <td>6059</td>\n",
       "      <td>heat%20wave</td>\n",
       "      <td>Frisco, TX</td>\n",
       "      <td>@wfaaweather Pete when will the heat wave pass...</td>\n",
       "      <td>1</td>\n",
       "    </tr>\n",
       "    <tr>\n",
       "      <th>1</th>\n",
       "      <td>5065</td>\n",
       "      <td>famine</td>\n",
       "      <td>NaN</td>\n",
       "      <td>Hunger hits me and I can't function probably w...</td>\n",
       "      <td>0</td>\n",
       "    </tr>\n",
       "    <tr>\n",
       "      <th>2</th>\n",
       "      <td>10457</td>\n",
       "      <td>wild%20fires</td>\n",
       "      <td>Los Angeles, CA</td>\n",
       "      <td>@SenFeinstein   Thanks Sen. Feinstein now hurr...</td>\n",
       "      <td>1</td>\n",
       "    </tr>\n",
       "    <tr>\n",
       "      <th>3</th>\n",
       "      <td>6893</td>\n",
       "      <td>mass%20murder</td>\n",
       "      <td>Birmingham, England</td>\n",
       "      <td>#DebateQuestionsWeWantToHear Why does #Saudi a...</td>\n",
       "      <td>1</td>\n",
       "    </tr>\n",
       "    <tr>\n",
       "      <th>4</th>\n",
       "      <td>7603</td>\n",
       "      <td>pandemonium</td>\n",
       "      <td>Scotland</td>\n",
       "      <td>@J3Lyon I'm going to put the FFVII ones out at...</td>\n",
       "      <td>0</td>\n",
       "    </tr>\n",
       "    <tr>\n",
       "      <th>...</th>\n",
       "      <td>...</td>\n",
       "      <td>...</td>\n",
       "      <td>...</td>\n",
       "      <td>...</td>\n",
       "      <td>...</td>\n",
       "    </tr>\n",
       "    <tr>\n",
       "      <th>7608</th>\n",
       "      <td>9018</td>\n",
       "      <td>stretcher</td>\n",
       "      <td>NaN</td>\n",
       "      <td>Sweater Stretcher http://t.co/naTz5iPV1x http:...</td>\n",
       "      <td>0</td>\n",
       "    </tr>\n",
       "    <tr>\n",
       "      <th>7609</th>\n",
       "      <td>6145</td>\n",
       "      <td>hijack</td>\n",
       "      <td>NaN</td>\n",
       "      <td>0-day bug in fully patched OS X comes under ac...</td>\n",
       "      <td>0</td>\n",
       "    </tr>\n",
       "    <tr>\n",
       "      <th>7610</th>\n",
       "      <td>7566</td>\n",
       "      <td>outbreak</td>\n",
       "      <td>Canada</td>\n",
       "      <td>DTN Italy: Families to sue over Legionnaires: ...</td>\n",
       "      <td>1</td>\n",
       "    </tr>\n",
       "    <tr>\n",
       "      <th>7611</th>\n",
       "      <td>3737</td>\n",
       "      <td>destroyed</td>\n",
       "      <td>NaN</td>\n",
       "      <td>@DavidVitter Hi David in 2003 I saw the USA wa...</td>\n",
       "      <td>1</td>\n",
       "    </tr>\n",
       "    <tr>\n",
       "      <th>7612</th>\n",
       "      <td>5953</td>\n",
       "      <td>hazard</td>\n",
       "      <td>NaN</td>\n",
       "      <td>Davis's Drug Guide for Nurses by Judith Hopfer...</td>\n",
       "      <td>0</td>\n",
       "    </tr>\n",
       "  </tbody>\n",
       "</table>\n",
       "<p>7613 rows × 5 columns</p>\n",
       "</div>"
      ],
      "text/plain": [
       "         id        keyword             location  \\\n",
       "0      6059    heat%20wave           Frisco, TX   \n",
       "1      5065         famine                  NaN   \n",
       "2     10457   wild%20fires      Los Angeles, CA   \n",
       "3      6893  mass%20murder  Birmingham, England   \n",
       "4      7603    pandemonium             Scotland   \n",
       "...     ...            ...                  ...   \n",
       "7608   9018      stretcher                  NaN   \n",
       "7609   6145         hijack                  NaN   \n",
       "7610   7566       outbreak               Canada   \n",
       "7611   3737      destroyed                  NaN   \n",
       "7612   5953         hazard                  NaN   \n",
       "\n",
       "                                                   text  target  \n",
       "0     @wfaaweather Pete when will the heat wave pass...       1  \n",
       "1     Hunger hits me and I can't function probably w...       0  \n",
       "2     @SenFeinstein   Thanks Sen. Feinstein now hurr...       1  \n",
       "3     #DebateQuestionsWeWantToHear Why does #Saudi a...       1  \n",
       "4     @J3Lyon I'm going to put the FFVII ones out at...       0  \n",
       "...                                                 ...     ...  \n",
       "7608  Sweater Stretcher http://t.co/naTz5iPV1x http:...       0  \n",
       "7609  0-day bug in fully patched OS X comes under ac...       0  \n",
       "7610  DTN Italy: Families to sue over Legionnaires: ...       1  \n",
       "7611  @DavidVitter Hi David in 2003 I saw the USA wa...       1  \n",
       "7612  Davis's Drug Guide for Nurses by Judith Hopfer...       0  \n",
       "\n",
       "[7613 rows x 5 columns]"
      ]
     },
     "execution_count": 33,
     "metadata": {},
     "output_type": "execute_result"
    }
   ],
   "source": [
    "import pandas as pd\n",
    "import numpy as np\n",
    "train_dataset = pd.read_csv('train.csv')\n",
    "train_dataset = train_dataset.sample(frac=1).reset_index(drop=True)\n",
    "predict_dataset = pd.read_csv('test.csv')\n",
    "\n",
    "train_dataset"
   ]
  },
  {
   "cell_type": "code",
   "execution_count": 34,
   "metadata": {},
   "outputs": [
    {
     "data": {
      "text/plain": [
       "id          7613\n",
       "keyword     7552\n",
       "location    5080\n",
       "text        7613\n",
       "target      7613\n",
       "dtype: int64"
      ]
     },
     "execution_count": 34,
     "metadata": {},
     "output_type": "execute_result"
    }
   ],
   "source": [
    "train_dataset.count()\n",
    "#The dataset (train and test) has 10876 lines, 7613 have the variable \"target\" (train) and 3263 are test data\n",
    "#The variable keyword gives the theme of the tweet, it allows to categorize tweets, it is missing in some instances\n",
    "#Text is the tweet, they are all in English, they contain many special characters that need to be removed\n",
    "#Location is missing on a majority of instance"
   ]
  },
  {
   "cell_type": "code",
   "execution_count": 35,
   "metadata": {},
   "outputs": [
    {
     "data": {
      "text/plain": [
       "id             0\n",
       "keyword       61\n",
       "location    2533\n",
       "text           0\n",
       "target         0\n",
       "dtype: int64"
      ]
     },
     "execution_count": 35,
     "metadata": {},
     "output_type": "execute_result"
    }
   ],
   "source": [
    "train_dataset.isna().sum()"
   ]
  },
  {
   "cell_type": "markdown",
   "metadata": {},
   "source": [
    "# Treatment of the \"text\" variable\n"
   ]
  },
  {
   "cell_type": "code",
   "execution_count": 36,
   "metadata": {},
   "outputs": [],
   "source": [
    "#Extracting hashtags\n",
    "import re\n",
    "def extract_hashtags(dataset):\n",
    "    hashtags = dataset['text'].str.extractall(r'#([A-Za-z0-9]+)')\n",
    "    hashtags.index = hashtags.index.get_level_values(0)\n",
    "    hashtags = hashtags.groupby([hashtags.index]).agg(lambda col: list(col))\n",
    "    hashtags = hashtags.rename(columns={0:'hashtags'})\n",
    "    dataset = dataset.merge(hashtags, how='left', left_index=True, right_index=True)\n",
    "    return dataset\n",
    "\n",
    "train_dataset = extract_hashtags(train_dataset)\n",
    "predict_dataset = extract_hashtags(predict_dataset)"
   ]
  },
  {
   "cell_type": "code",
   "execution_count": 37,
   "metadata": {},
   "outputs": [],
   "source": [
    "def normalize_text(string):\n",
    "    string = string.lower()\n",
    "    string = re.sub('http[\\S]+', '', string)\n",
    "    string = re.sub('[^\\w\\s]','', string)\n",
    "    string = re.sub('[0-9]+', '', string)\n",
    "    return string"
   ]
  },
  {
   "cell_type": "code",
   "execution_count": 38,
   "metadata": {},
   "outputs": [],
   "source": [
    "train_dataset['text'] = train_dataset['text'].apply(lambda string : normalize_text(string))\n",
    "predict_dataset['text'] = predict_dataset['text'].apply(lambda string : normalize_text(string))"
   ]
  },
  {
   "cell_type": "markdown",
   "metadata": {},
   "source": [
    "# Tfidf vectorization and simple NN"
   ]
  },
  {
   "cell_type": "code",
   "execution_count": 39,
   "metadata": {},
   "outputs": [],
   "source": [
    "#Spacy tokenization + Lemmatization + removing stop words"
   ]
  },
  {
   "cell_type": "code",
   "execution_count": 40,
   "metadata": {},
   "outputs": [],
   "source": [
    "import spacy\n",
    "nlp = spacy.load('en_core_web_md')\n",
    "stop_words = nlp.Defaults.stop_words\n",
    "\n",
    "def tokenize(string):\n",
    "    tokens = nlp(string)\n",
    "    tokens_nostop = ''\n",
    "    for token in tokens:\n",
    "        if token.text not in stop_words:\n",
    "            tokens_nostop = tokens_nostop + ' ' + token.lemma_\n",
    "    return tokens_nostop"
   ]
  },
  {
   "cell_type": "code",
   "execution_count": 41,
   "metadata": {},
   "outputs": [],
   "source": [
    "train_dataset['text'] = train_dataset['text'].apply(lambda text: tokenize(text))\n",
    "predict_dataset['text'] = predict_dataset['text'].apply(lambda text: tokenize(text))"
   ]
  },
  {
   "cell_type": "code",
   "execution_count": 42,
   "metadata": {},
   "outputs": [],
   "source": [
    "# TfIdf Vectorization\n",
    "from sklearn.feature_extraction.text import TfidfVectorizer\n",
    "\n",
    "tfidf_vectorizer = TfidfVectorizer(min_df=2)\n",
    "tfidf_vectorizer.fit(train_dataset['text'])\n",
    "\n",
    "train_dataset_X = tfidf_vectorizer.transform(train_dataset['text']).toarray()\n",
    "predict_dataset_X = tfidf_vectorizer.transform(predict_dataset['text']).toarray()\n",
    "\n",
    "#y\n",
    "train_dataset_y = np.array(train_dataset['target'])"
   ]
  },
  {
   "cell_type": "code",
   "execution_count": 43,
   "metadata": {},
   "outputs": [],
   "source": [
    "#Split train and test data\n",
    "from sklearn.model_selection import train_test_split\n",
    "X_train, X_test, y_train, y_test = train_test_split(train_dataset_X, train_dataset_y, test_size=0.33, random_state=42)"
   ]
  },
  {
   "cell_type": "markdown",
   "metadata": {},
   "source": [
    "# Logistic regression"
   ]
  },
  {
   "cell_type": "code",
   "execution_count": 13,
   "metadata": {},
   "outputs": [
    {
     "name": "stderr",
     "output_type": "stream",
     "text": [
      "C:\\Users\\jean_\\anaconda3\\envs\\nlp_course\\lib\\site-packages\\sklearn\\linear_model\\logistic.py:433: FutureWarning: Default solver will be changed to 'lbfgs' in 0.22. Specify a solver to silence this warning.\n",
      "  FutureWarning)\n"
     ]
    }
   ],
   "source": [
    "#Model: simple logistic regression on tfidf features\n",
    "from sklearn.linear_model import LogisticRegression\n",
    "\n",
    "classifier = LogisticRegression()\n",
    "classifier.fit(X_train, y_train)\n",
    "y_test_predicted = classifier.predict(X_test)"
   ]
  },
  {
   "cell_type": "code",
   "execution_count": 14,
   "metadata": {},
   "outputs": [
    {
     "name": "stdout",
     "output_type": "stream",
     "text": [
      "Accuracy is: 80.4615996816554%\n"
     ]
    }
   ],
   "source": [
    "#Performance metrics\n",
    "import seaborn as sns\n",
    "from sklearn.metrics import accuracy_score\n",
    "from sklearn.metrics import confusion_matrix\n",
    "\n",
    "accuracy = accuracy_score(y_test, y_test_predicted)\n",
    "print('Accuracy is: '+ str(100*accuracy)+'%')"
   ]
  },
  {
   "cell_type": "code",
   "execution_count": 15,
   "metadata": {},
   "outputs": [
    {
     "data": {
      "text/plain": [
       "array([[1289,  124],\n",
       "       [ 367,  733]], dtype=int64)"
      ]
     },
     "execution_count": 15,
     "metadata": {},
     "output_type": "execute_result"
    }
   ],
   "source": [
    "confusion_matrix(y_test, y_test_predicted)"
   ]
  },
  {
   "cell_type": "code",
   "execution_count": 16,
   "metadata": {},
   "outputs": [],
   "source": [
    "predict_dataset_predict_y = classifier.predict(predict_dataset_X)"
   ]
  },
  {
   "cell_type": "code",
   "execution_count": 17,
   "metadata": {},
   "outputs": [],
   "source": [
    "prediction_df = pd.DataFrame(predict_dataset_predict_y, columns=['target'])"
   ]
  },
  {
   "cell_type": "code",
   "execution_count": 18,
   "metadata": {},
   "outputs": [],
   "source": [
    "prediction_df = prediction_df.merge(predict_dataset[['id']], left_index=True, right_index=True)"
   ]
  },
  {
   "cell_type": "code",
   "execution_count": 19,
   "metadata": {},
   "outputs": [],
   "source": [
    "prediction_df = prediction_df[['id','target']]\n",
    "prediction_df.to_csv('submission1.csv', index=False)"
   ]
  },
  {
   "cell_type": "code",
   "execution_count": 20,
   "metadata": {},
   "outputs": [],
   "source": [
    "#This submission got a result of 80.46% on Kaggle"
   ]
  },
  {
   "cell_type": "markdown",
   "metadata": {},
   "source": [
    "# Neural network for classification"
   ]
  },
  {
   "cell_type": "code",
   "execution_count": 47,
   "metadata": {},
   "outputs": [],
   "source": [
    "#Neural network\n",
    "from keras.models import Sequential\n",
    "from keras.layers import Dense, Dropout\n",
    "from keras import regularizers\n",
    "\n",
    "from keras.optimizers import SGD\n",
    "from keras.optimizers import Adam\n",
    "\n",
    "model_nn = Sequential()\n",
    "model_nn.add(Dense(300, input_dim=X_train.shape[1], activation='relu', kernel_regularizer=regularizers.l1(0.0001)))\n",
    "\n",
    "model_nn.add(Dense(300, activation='relu', kernel_regularizer=regularizers.l1(0.0001)))\n",
    "\n",
    "model_nn.add(Dense(1, activation='sigmoid'))\n",
    "\n",
    "model_nn.compile(loss='binary_crossentropy', optimizer=Adam(lr=0.0001), metrics=['accuracy'])"
   ]
  },
  {
   "cell_type": "code",
   "execution_count": 48,
   "metadata": {
    "scrolled": false
   },
   "outputs": [
    {
     "name": "stdout",
     "output_type": "stream",
     "text": [
      "Train on 5100 samples, validate on 2513 samples\n",
      "Epoch 1/7\n",
      "5100/5100 [==============================] - 5s 1ms/step - loss: 2.6793 - accuracy: 0.5684 - val_loss: 1.8024 - val_accuracy: 0.5702\n",
      "Epoch 2/7\n",
      "5100/5100 [==============================] - 5s 969us/step - loss: 1.3052 - accuracy: 0.5751 - val_loss: 0.9784 - val_accuracy: 0.6140\n",
      "Epoch 3/7\n",
      "5100/5100 [==============================] - 5s 1ms/step - loss: 0.8852 - accuracy: 0.6582 - val_loss: 0.8234 - val_accuracy: 0.7660\n",
      "Epoch 4/7\n",
      "5100/5100 [==============================] - 6s 1ms/step - loss: 0.7603 - accuracy: 0.7704 - val_loss: 0.7235 - val_accuracy: 0.7887\n",
      "Epoch 5/7\n",
      "5100/5100 [==============================] - 7s 1ms/step - loss: 0.6671 - accuracy: 0.8124 - val_loss: 0.6647 - val_accuracy: 0.7895\n",
      "Epoch 6/7\n",
      "5100/5100 [==============================] - 6s 1ms/step - loss: 0.6046 - accuracy: 0.8333 - val_loss: 0.6337 - val_accuracy: 0.7891\n",
      "Epoch 7/7\n",
      "5100/5100 [==============================] - 7s 1ms/step - loss: 0.5657 - accuracy: 0.8418 - val_loss: 0.6258 - val_accuracy: 0.7891\n"
     ]
    }
   ],
   "source": [
    "#Train model\n",
    "training_process = model_nn.fit(X_train, y_train, epochs=7, validation_data=(X_test, y_test))"
   ]
  },
  {
   "cell_type": "code",
   "execution_count": 50,
   "metadata": {},
   "outputs": [
    {
     "data": {
      "image/png": "[encoded data removed]",
      "text/plain": [
       "<Figure size 432x288 with 1 Axes>"
      ]
     },
     "metadata": {
      "needs_background": "light"
     },
     "output_type": "display_data"
    },
    {
     "data": {
      "image/png": "[encoded data removed]",
      "text/plain": [
       "<Figure size 432x288 with 1 Axes>"
      ]
     },
     "metadata": {
      "needs_background": "light"
     },
     "output_type": "display_data"
    }
   ],
   "source": [
    "import matplotlib.pyplot as plt\n",
    "# summarize history for accuracy\n",
    "plt.plot(training_process.history['accuracy'])\n",
    "plt.plot(training_process.history['val_accuracy'])\n",
    "plt.title('model accuracy')\n",
    "plt.ylabel('accuracy')\n",
    "plt.xlabel('epoch')\n",
    "plt.show()\n",
    "# summarize history for loss\n",
    "plt.plot(training_process.history['loss'])\n",
    "plt.plot(training_process.history['val_loss'])\n",
    "plt.title('model loss')\n",
    "plt.ylabel('loss')\n",
    "plt.xlabel('epoch')\n",
    "\n",
    "plt.show()"
   ]
  },
  {
   "cell_type": "code",
   "execution_count": 51,
   "metadata": {},
   "outputs": [
    {
     "name": "stdout",
     "output_type": "stream",
     "text": [
      "Accuracy is: 78.90966971746916%\n"
     ]
    }
   ],
   "source": [
    "from sklearn.metrics import accuracy_score\n",
    "y_test_predicted = model_nn.predict(X_test)\n",
    "y_test_predicted = np.where(y_test_predicted >= 0.5, 1, y_test_predicted)\n",
    "y_test_predicted = np.where(y_test_predicted < 0.5, 0, y_test_predicted)\n",
    "accuracy = accuracy_score(y_test, y_test_predicted)\n",
    "print('Accuracy is: '+ str(100*accuracy)+'%')"
   ]
  },
  {
   "cell_type": "code",
   "execution_count": null,
   "metadata": {},
   "outputs": [],
   "source": []
  },
  {
   "cell_type": "markdown",
   "metadata": {},
   "source": [
    "## RNN network"
   ]
  },
  {
   "cell_type": "code",
   "execution_count": 71,
   "metadata": {},
   "outputs": [
    {
     "name": "stdout",
     "output_type": "stream",
     "text": [
      "Found 14734 unique tokens.\n"
     ]
    }
   ],
   "source": [
    "# Fit keras tokenizer\n",
    "from keras.preprocessing.text import Tokenizer\n",
    "from keras.preprocessing.sequence import pad_sequences\n",
    "\n",
    "# The maximum number of words to be used. (most frequent)\n",
    "MAX_NB_WORDS = 10000\n",
    "# Max number of words in each complaint.\n",
    "MAX_SEQUENCE_LENGTH = 40\n",
    "# This is fixed.\n",
    "EMBEDDING_DIM = 300\n",
    "\n",
    "tokenizer = Tokenizer(num_words=MAX_NB_WORDS, lower=True)\n",
    "tokenizer.fit_on_texts(train_dataset['text'].values)\n",
    "\n",
    "word_index = tokenizer.word_index\n",
    "print('Found %s unique tokens.' % len(word_index))"
   ]
  },
  {
   "cell_type": "code",
   "execution_count": 72,
   "metadata": {},
   "outputs": [
    {
     "name": "stdout",
     "output_type": "stream",
     "text": [
      "Shape of data tensor: (7613, 40)\n"
     ]
    }
   ],
   "source": [
    "#X variable\n",
    "X_train_dataset = tokenizer.texts_to_sequences(train_dataset['text'].values)\n",
    "X_predict_dataset = tokenizer.texts_to_sequences(predict_dataset['text'].values)\n",
    "\n",
    "#The longest tweet has 31 tokens\n",
    "X_train_dataset = pad_sequences(X_train_dataset, maxlen=MAX_SEQUENCE_LENGTH)\n",
    "X_predict_dataset = pad_sequences(X_predict_dataset, maxlen=MAX_SEQUENCE_LENGTH)\n",
    "print('Shape of data tensor:', X_train_dataset.shape)"
   ]
  },
  {
   "cell_type": "code",
   "execution_count": 73,
   "metadata": {},
   "outputs": [],
   "source": [
    "#y variable\n",
    "y_train_dataset = np.array(train_dataset['target'])"
   ]
  },
  {
   "cell_type": "code",
   "execution_count": 74,
   "metadata": {},
   "outputs": [],
   "source": [
    "#Split train and test data\n",
    "from sklearn.model_selection import train_test_split\n",
    "X_train, X_test, y_train, y_test = train_test_split(X_train_dataset, y_train_dataset, test_size=0.2, random_state=30)"
   ]
  },
  {
   "cell_type": "code",
   "execution_count": 75,
   "metadata": {},
   "outputs": [
    {
     "data": {
      "text/plain": [
       "(7613, 40)"
      ]
     },
     "execution_count": 75,
     "metadata": {},
     "output_type": "execute_result"
    }
   ],
   "source": [
    "X_train_dataset.shape"
   ]
  },
  {
   "cell_type": "code",
   "execution_count": 101,
   "metadata": {},
   "outputs": [
    {
     "name": "stdout",
     "output_type": "stream",
     "text": [
      "Model: \"sequential_21\"\n",
      "_________________________________________________________________\n",
      "Layer (type)                 Output Shape              Param #   \n",
      "=================================================================\n",
      "embedding_15 (Embedding)     (None, 40, 300)           3000000   \n",
      "_________________________________________________________________\n",
      "spatial_dropout1d_15 (Spatia (None, 40, 300)           0         \n",
      "_________________________________________________________________\n",
      "lstm_15 (LSTM)               (None, 300)               721200    \n",
      "_________________________________________________________________\n",
      "dense_44 (Dense)             (None, 40)                12040     \n",
      "_________________________________________________________________\n",
      "dense_45 (Dense)             (None, 1)                 41        \n",
      "=================================================================\n",
      "Total params: 3,733,281\n",
      "Trainable params: 3,733,281\n",
      "Non-trainable params: 0\n",
      "_________________________________________________________________\n"
     ]
    }
   ],
   "source": [
    "#Model specification\n",
    "from keras import Sequential\n",
    "from keras.layers import Dense, SpatialDropout1D, LSTM, Embedding\n",
    "from keras.optimizers import Adam\n",
    "from keras import regularizers\n",
    "\n",
    "model_rnn = Sequential()\n",
    "model_rnn.add(Embedding(MAX_NB_WORDS, EMBEDDING_DIM, input_length=X_train_dataset.shape[1]))\n",
    "model_rnn.add(SpatialDropout1D(0.5))\n",
    "model_rnn.add(LSTM(EMBEDDING_DIM, dropout=0.5))\n",
    "model_rnn.add(Dense(40, activation='sigmoid', kernel_regularizer=regularizers.l2(0.01)))\n",
    "model_rnn.add(Dense(1, activation='sigmoid' , kernel_regularizer=regularizers.l2(0.01)))\n",
    "model_rnn.compile(loss='binary_crossentropy', optimizer=Adam(lr=0.0001), metrics=['accuracy'])\n",
    "model_rnn.summary()"
   ]
  },
  {
   "cell_type": "code",
   "execution_count": 104,
   "metadata": {
    "scrolled": true
   },
   "outputs": [
    {
     "name": "stdout",
     "output_type": "stream",
     "text": [
      "Train on 6090 samples, validate on 1523 samples\n",
      "Epoch 1/20\n",
      "6090/6090 [==============================] - 19s 3ms/step - loss: 0.7585 - accuracy: 0.8658 - val_loss: 0.8756 - val_accuracy: 0.7761\n",
      "Epoch 2/20\n",
      "6090/6090 [==============================] - 17s 3ms/step - loss: 0.7351 - accuracy: 0.8744 - val_loss: 0.8679 - val_accuracy: 0.7827\n",
      "Epoch 3/20\n",
      "6090/6090 [==============================] - 18s 3ms/step - loss: 0.7277 - accuracy: 0.8737 - val_loss: 0.8646 - val_accuracy: 0.7787\n",
      "Epoch 4/20\n",
      "6090/6090 [==============================] - 20s 3ms/step - loss: 0.7134 - accuracy: 0.8800 - val_loss: 0.8615 - val_accuracy: 0.7774\n",
      "Epoch 5/20\n",
      "6090/6090 [==============================] - 19s 3ms/step - loss: 0.7061 - accuracy: 0.8806 - val_loss: 0.8548 - val_accuracy: 0.7853\n",
      "Epoch 6/20\n",
      "6090/6090 [==============================] - 19s 3ms/step - loss: 0.6907 - accuracy: 0.8837 - val_loss: 0.8487 - val_accuracy: 0.7899\n",
      "Epoch 7/20\n",
      "6090/6090 [==============================] - 19s 3ms/step - loss: 0.6792 - accuracy: 0.8880 - val_loss: 0.8466 - val_accuracy: 0.7800\n",
      "Epoch 8/20\n",
      "6090/6090 [==============================] - 19s 3ms/step - loss: 0.6695 - accuracy: 0.8910 - val_loss: 0.8531 - val_accuracy: 0.7728\n",
      "Epoch 9/20\n",
      "6090/6090 [==============================] - 23s 4ms/step - loss: 0.6593 - accuracy: 0.8928 - val_loss: 0.8473 - val_accuracy: 0.7761\n",
      "Epoch 10/20\n",
      "6090/6090 [==============================] - 22s 4ms/step - loss: 0.6506 - accuracy: 0.8920 - val_loss: 0.8309 - val_accuracy: 0.7866\n",
      "Epoch 11/20\n",
      "6090/6090 [==============================] - 25s 4ms/step - loss: 0.6499 - accuracy: 0.8895 - val_loss: 0.8292 - val_accuracy: 0.7814\n",
      "Epoch 12/20\n",
      "6090/6090 [==============================] - 24s 4ms/step - loss: 0.6342 - accuracy: 0.9016 - val_loss: 0.8199 - val_accuracy: 0.7899\n",
      "Epoch 13/20\n",
      "6090/6090 [==============================] - 27s 4ms/step - loss: 0.6235 - accuracy: 0.9023 - val_loss: 0.8244 - val_accuracy: 0.7853\n",
      "Epoch 14/20\n",
      "6090/6090 [==============================] - 35s 6ms/step - loss: 0.6118 - accuracy: 0.9034 - val_loss: 0.8417 - val_accuracy: 0.7768\n",
      "Epoch 15/20\n",
      "6090/6090 [==============================] - 34s 6ms/step - loss: 0.6076 - accuracy: 0.9031 - val_loss: 0.8158 - val_accuracy: 0.7873\n",
      "Epoch 16/20\n",
      "6090/6090 [==============================] - 29s 5ms/step - loss: 0.5991 - accuracy: 0.9053 - val_loss: 0.8197 - val_accuracy: 0.7774\n",
      "Epoch 17/20\n",
      "6090/6090 [==============================] - 26s 4ms/step - loss: 0.5916 - accuracy: 0.9079 - val_loss: 0.7984 - val_accuracy: 0.7899\n",
      "Epoch 18/20\n",
      "6090/6090 [==============================] - 25s 4ms/step - loss: 0.5810 - accuracy: 0.9118 - val_loss: 0.8156 - val_accuracy: 0.7794\n",
      "Epoch 19/20\n",
      "6090/6090 [==============================] - 25s 4ms/step - loss: 0.5682 - accuracy: 0.9133 - val_loss: 0.8472 - val_accuracy: 0.7649\n",
      "Epoch 20/20\n",
      "6090/6090 [==============================] - 25s 4ms/step - loss: 0.5676 - accuracy: 0.9094 - val_loss: 0.8181 - val_accuracy: 0.7728\n"
     ]
    }
   ],
   "source": [
    "#fit the model\n",
    "epochs = 20\n",
    "batch_size = 1000\n",
    "\n",
    "history = model_rnn.fit(X_train, y_train, epochs=epochs, batch_size=batch_size, validation_data=(X_test, y_test))"
   ]
  },
  {
   "cell_type": "code",
   "execution_count": 106,
   "metadata": {},
   "outputs": [
    {
     "data": {
      "image/png": "[encoded data removed]",
      "text/plain": [
       "<Figure size 432x288 with 1 Axes>"
      ]
     },
     "metadata": {
      "needs_background": "light"
     },
     "output_type": "display_data"
    },
    {
     "data": {
      "image/png": "[encoded data removed]",
      "text/plain": [
       "<Figure size 432x288 with 1 Axes>"
      ]
     },
     "metadata": {
      "needs_background": "light"
     },
     "output_type": "display_data"
    }
   ],
   "source": [
    "import matplotlib.pyplot as plt\n",
    "# summarize history for accuracy\n",
    "plt.plot(history.history['accuracy'])\n",
    "plt.plot(history.history['val_accuracy'])\n",
    "plt.title('model accuracy')\n",
    "plt.ylabel('accuracy')\n",
    "plt.xlabel('epoch')\n",
    "plt.show()\n",
    "# summarize history for loss\n",
    "plt.plot(history.history['loss'])\n",
    "plt.plot(history.history['val_loss'])\n",
    "plt.title('model loss')\n",
    "plt.ylabel('loss')\n",
    "plt.xlabel('epoch')\n",
    "\n",
    "plt.show()"
   ]
  },
  {
   "cell_type": "code",
   "execution_count": 105,
   "metadata": {},
   "outputs": [
    {
     "name": "stdout",
     "output_type": "stream",
     "text": [
      "Accuracy is: 77.28168089297439%\n"
     ]
    }
   ],
   "source": [
    "from sklearn.metrics import accuracy_score\n",
    "y_test_predicted = model_rnn.predict(X_test)\n",
    "y_test_predicted = np.where(y_test_predicted >= 0.5, 1, y_test_predicted)\n",
    "y_test_predicted = np.where(y_test_predicted < 0.5, 0, y_test_predicted)\n",
    "accuracy = accuracy_score(y_test, y_test_predicted)\n",
    "print('Accuracy is: '+ str(100*accuracy)+'%')"
   ]
  }
 ],
 "metadata": {
  "kernelspec": {
   "display_name": "Python 3",
   "language": "python",
   "name": "python3"
  },
  "language_info": {
   "codemirror_mode": {
    "name": "ipython",
    "version": 3
   },
   "file_extension": ".py",
   "mimetype": "text/x-python",
   "name": "python",
   "nbconvert_exporter": "python",
   "pygments_lexer": "ipython3",
   "version": "3.7.9"
  }
 },
 "nbformat": 4,
 "nbformat_minor": 4
}
