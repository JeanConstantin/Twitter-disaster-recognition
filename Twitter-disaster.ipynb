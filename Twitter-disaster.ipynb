{
 "cells": [
  {
   "cell_type": "markdown",
   "metadata": {},
   "source": [
    "## Upload datasets"
   ]
  },
  {
   "cell_type": "code",
   "execution_count": 6,
   "metadata": {},
   "outputs": [
    {
     "data": {
      "text/html": [
       "<div>\n",
       "<style scoped>\n",
       "    .dataframe tbody tr th:only-of-type {\n",
       "        vertical-align: middle;\n",
       "    }\n",
       "\n",
       "    .dataframe tbody tr th {\n",
       "        vertical-align: top;\n",
       "    }\n",
       "\n",
       "    .dataframe thead th {\n",
       "        text-align: right;\n",
       "    }\n",
       "</style>\n",
       "<table border=\"1\" class=\"dataframe\">\n",
       "  <thead>\n",
       "    <tr style=\"text-align: right;\">\n",
       "      <th></th>\n",
       "      <th>id</th>\n",
       "      <th>keyword</th>\n",
       "      <th>location</th>\n",
       "      <th>text</th>\n",
       "      <th>target</th>\n",
       "    </tr>\n",
       "  </thead>\n",
       "  <tbody>\n",
       "    <tr>\n",
       "      <th>0</th>\n",
       "      <td>1572</td>\n",
       "      <td>bomb</td>\n",
       "      <td>NaN</td>\n",
       "      <td>The bomb was so appropriate ?? seen as my fami...</td>\n",
       "      <td>0</td>\n",
       "    </tr>\n",
       "    <tr>\n",
       "      <th>1</th>\n",
       "      <td>10546</td>\n",
       "      <td>windstorm</td>\n",
       "      <td>Georgia ? Tennessee</td>\n",
       "      <td>When I breathe it sounds like a windstorm. Hah...</td>\n",
       "      <td>0</td>\n",
       "    </tr>\n",
       "    <tr>\n",
       "      <th>2</th>\n",
       "      <td>10647</td>\n",
       "      <td>wounds</td>\n",
       "      <td>Kashmir!</td>\n",
       "      <td>Acc to the study conducted by SKIMS morethan 5...</td>\n",
       "      <td>1</td>\n",
       "    </tr>\n",
       "    <tr>\n",
       "      <th>3</th>\n",
       "      <td>5886</td>\n",
       "      <td>harm</td>\n",
       "      <td>Massachusetts, USA</td>\n",
       "      <td>@tareksocal I think a lot of celebrities have ...</td>\n",
       "      <td>0</td>\n",
       "    </tr>\n",
       "    <tr>\n",
       "      <th>4</th>\n",
       "      <td>5284</td>\n",
       "      <td>fear</td>\n",
       "      <td>NaN</td>\n",
       "      <td>I want to be with you forever\\nStay by my side...</td>\n",
       "      <td>0</td>\n",
       "    </tr>\n",
       "    <tr>\n",
       "      <th>5</th>\n",
       "      <td>6801</td>\n",
       "      <td>loud%20bang</td>\n",
       "      <td>NaN</td>\n",
       "      <td>#ActionMoviesTaughtUs things actually can expl...</td>\n",
       "      <td>0</td>\n",
       "    </tr>\n",
       "    <tr>\n",
       "      <th>6</th>\n",
       "      <td>3136</td>\n",
       "      <td>debris</td>\n",
       "      <td>Berlin, Germany</td>\n",
       "      <td>Experts leave lab as Malaysia confirms debris ...</td>\n",
       "      <td>1</td>\n",
       "    </tr>\n",
       "    <tr>\n",
       "      <th>7</th>\n",
       "      <td>8817</td>\n",
       "      <td>sirens</td>\n",
       "      <td>miami x dallas</td>\n",
       "      <td>Lets Goooooooo http://t.co/fZ5eW4iHmB</td>\n",
       "      <td>0</td>\n",
       "    </tr>\n",
       "    <tr>\n",
       "      <th>8</th>\n",
       "      <td>2643</td>\n",
       "      <td>crashed</td>\n",
       "      <td>Kingswinford</td>\n",
       "      <td>I just nearly crashed my car typing 'Paul Rudd...</td>\n",
       "      <td>0</td>\n",
       "    </tr>\n",
       "    <tr>\n",
       "      <th>9</th>\n",
       "      <td>7580</td>\n",
       "      <td>outbreak</td>\n",
       "      <td>Anywhere</td>\n",
       "      <td>Families to sue over Legionnaires: More than 4...</td>\n",
       "      <td>1</td>\n",
       "    </tr>\n",
       "    <tr>\n",
       "      <th>10</th>\n",
       "      <td>9208</td>\n",
       "      <td>suicide%20bombing</td>\n",
       "      <td>NaN</td>\n",
       "      <td>@JewhadiTM It is almost amazing to think someo...</td>\n",
       "      <td>1</td>\n",
       "    </tr>\n",
       "    <tr>\n",
       "      <th>11</th>\n",
       "      <td>5178</td>\n",
       "      <td>fatalities</td>\n",
       "      <td>NaN</td>\n",
       "      <td>Injuries Illnesses and Fatalities Latest Numbe...</td>\n",
       "      <td>1</td>\n",
       "    </tr>\n",
       "    <tr>\n",
       "      <th>12</th>\n",
       "      <td>9907</td>\n",
       "      <td>traumatised</td>\n",
       "      <td>NaN</td>\n",
       "      <td>@brookesddl I am traumatised the lil shit near...</td>\n",
       "      <td>0</td>\n",
       "    </tr>\n",
       "    <tr>\n",
       "      <th>13</th>\n",
       "      <td>3256</td>\n",
       "      <td>demolish</td>\n",
       "      <td>ÌÏT: 0.0,0.0</td>\n",
       "      <td>Enugu Government to demolish illegal structure...</td>\n",
       "      <td>0</td>\n",
       "    </tr>\n",
       "    <tr>\n",
       "      <th>14</th>\n",
       "      <td>476</td>\n",
       "      <td>armageddon</td>\n",
       "      <td>East Coast</td>\n",
       "      <td>@Karnythia my niece is gaining the ability to ...</td>\n",
       "      <td>0</td>\n",
       "    </tr>\n",
       "    <tr>\n",
       "      <th>15</th>\n",
       "      <td>6085</td>\n",
       "      <td>hellfire</td>\n",
       "      <td>Rheinbach / Germany</td>\n",
       "      <td>Orchid - Sign Of The Witch http://t.co/YtkXwPyIHg</td>\n",
       "      <td>0</td>\n",
       "    </tr>\n",
       "    <tr>\n",
       "      <th>16</th>\n",
       "      <td>8289</td>\n",
       "      <td>rioting</td>\n",
       "      <td>A little house in the outback.</td>\n",
       "      <td>AM `bbcnews The Ass British Insurers says riot...</td>\n",
       "      <td>1</td>\n",
       "    </tr>\n",
       "    <tr>\n",
       "      <th>17</th>\n",
       "      <td>4385</td>\n",
       "      <td>earthquake</td>\n",
       "      <td>Desde Republica Argentina</td>\n",
       "      <td>#Sismo M 1.3 - 1km NNE of The Geysers Californ...</td>\n",
       "      <td>0</td>\n",
       "    </tr>\n",
       "    <tr>\n",
       "      <th>18</th>\n",
       "      <td>6736</td>\n",
       "      <td>lava</td>\n",
       "      <td>Indonesia</td>\n",
       "      <td>@YoungHeroesID 4. Lava Blast Power Red #Panthe...</td>\n",
       "      <td>0</td>\n",
       "    </tr>\n",
       "    <tr>\n",
       "      <th>19</th>\n",
       "      <td>8473</td>\n",
       "      <td>screamed</td>\n",
       "      <td>NaN</td>\n",
       "      <td>Not because i want to cheat or anything. Just ...</td>\n",
       "      <td>0</td>\n",
       "    </tr>\n",
       "    <tr>\n",
       "      <th>20</th>\n",
       "      <td>898</td>\n",
       "      <td>bioterrorism</td>\n",
       "      <td>NaN</td>\n",
       "      <td>To fight bioterrorism sir.</td>\n",
       "      <td>0</td>\n",
       "    </tr>\n",
       "    <tr>\n",
       "      <th>21</th>\n",
       "      <td>9212</td>\n",
       "      <td>suicide%20bombing</td>\n",
       "      <td>Istanbul</td>\n",
       "      <td>INFOGRAPHIC: At least 20 Turkish security offi...</td>\n",
       "      <td>1</td>\n",
       "    </tr>\n",
       "    <tr>\n",
       "      <th>22</th>\n",
       "      <td>1319</td>\n",
       "      <td>bloody</td>\n",
       "      <td>PH</td>\n",
       "      <td>Friday supposed to be a happy day but it's a b...</td>\n",
       "      <td>0</td>\n",
       "    </tr>\n",
       "    <tr>\n",
       "      <th>23</th>\n",
       "      <td>9597</td>\n",
       "      <td>thunder</td>\n",
       "      <td>Accra,Ghana</td>\n",
       "      <td>Please please u gotta listen to @leonalewis # ...</td>\n",
       "      <td>0</td>\n",
       "    </tr>\n",
       "    <tr>\n",
       "      <th>24</th>\n",
       "      <td>7295</td>\n",
       "      <td>nuclear%20reactor</td>\n",
       "      <td>NaN</td>\n",
       "      <td>Err:509</td>\n",
       "      <td>0</td>\n",
       "    </tr>\n",
       "    <tr>\n",
       "      <th>25</th>\n",
       "      <td>4395</td>\n",
       "      <td>earthquake</td>\n",
       "      <td>Seattle, WA</td>\n",
       "      <td>Sure the #Megaquake story brought a sense of p...</td>\n",
       "      <td>1</td>\n",
       "    </tr>\n",
       "    <tr>\n",
       "      <th>26</th>\n",
       "      <td>1525</td>\n",
       "      <td>body%20bags</td>\n",
       "      <td>NaN</td>\n",
       "      <td>Zicac Vintage Leather Briefcase Messenger Satc...</td>\n",
       "      <td>0</td>\n",
       "    </tr>\n",
       "    <tr>\n",
       "      <th>27</th>\n",
       "      <td>5675</td>\n",
       "      <td>floods</td>\n",
       "      <td>California</td>\n",
       "      <td>Floods Fishing Finally Sunshine &amp;amp; Fab Deal...</td>\n",
       "      <td>0</td>\n",
       "    </tr>\n",
       "    <tr>\n",
       "      <th>28</th>\n",
       "      <td>7169</td>\n",
       "      <td>mudslide</td>\n",
       "      <td>the burrow</td>\n",
       "      <td>DORETTE THATS THE NAME OF THE MUDSLIDE CAKE MAKER</td>\n",
       "      <td>0</td>\n",
       "    </tr>\n",
       "    <tr>\n",
       "      <th>29</th>\n",
       "      <td>5238</td>\n",
       "      <td>fatality</td>\n",
       "      <td>Utica NY</td>\n",
       "      <td>08/3/15: CAT FATALITY: UTICA NY; PLEASANT &amp;amp...</td>\n",
       "      <td>0</td>\n",
       "    </tr>\n",
       "    <tr>\n",
       "      <th>...</th>\n",
       "      <td>...</td>\n",
       "      <td>...</td>\n",
       "      <td>...</td>\n",
       "      <td>...</td>\n",
       "      <td>...</td>\n",
       "    </tr>\n",
       "    <tr>\n",
       "      <th>7583</th>\n",
       "      <td>4608</td>\n",
       "      <td>emergency%20services</td>\n",
       "      <td>NaN</td>\n",
       "      <td>We're #hiring! Click to apply: RN II/EMERGENCY...</td>\n",
       "      <td>1</td>\n",
       "    </tr>\n",
       "    <tr>\n",
       "      <th>7584</th>\n",
       "      <td>4442</td>\n",
       "      <td>electrocute</td>\n",
       "      <td>Cairo, Egypt.</td>\n",
       "      <td>But the sea would..electrocute us all.</td>\n",
       "      <td>0</td>\n",
       "    </tr>\n",
       "    <tr>\n",
       "      <th>7585</th>\n",
       "      <td>9657</td>\n",
       "      <td>thunderstorm</td>\n",
       "      <td>NaN</td>\n",
       "      <td>#usNWSgov Severe Weather Statement issued Augu...</td>\n",
       "      <td>1</td>\n",
       "    </tr>\n",
       "    <tr>\n",
       "      <th>7586</th>\n",
       "      <td>1362</td>\n",
       "      <td>blown%20up</td>\n",
       "      <td>NaN</td>\n",
       "      <td>Guaranteed been bitten by some mutant mosquito...</td>\n",
       "      <td>0</td>\n",
       "    </tr>\n",
       "    <tr>\n",
       "      <th>7587</th>\n",
       "      <td>3114</td>\n",
       "      <td>debris</td>\n",
       "      <td>46.950109,7.439469</td>\n",
       "      <td>How Missing JetÛªs Debris Could Have Floated ...</td>\n",
       "      <td>1</td>\n",
       "    </tr>\n",
       "    <tr>\n",
       "      <th>7588</th>\n",
       "      <td>3006</td>\n",
       "      <td>death</td>\n",
       "      <td>NaN</td>\n",
       "      <td>my vibrator shaped vape done busted</td>\n",
       "      <td>0</td>\n",
       "    </tr>\n",
       "    <tr>\n",
       "      <th>7589</th>\n",
       "      <td>1090</td>\n",
       "      <td>blew%20up</td>\n",
       "      <td>NaN</td>\n",
       "      <td>I think I just blew up @HopeInHearts notificat...</td>\n",
       "      <td>0</td>\n",
       "    </tr>\n",
       "    <tr>\n",
       "      <th>7590</th>\n",
       "      <td>3982</td>\n",
       "      <td>devastation</td>\n",
       "      <td>NaN</td>\n",
       "      <td>70 Years After Atomic Bombs Japan Still Strugg...</td>\n",
       "      <td>1</td>\n",
       "    </tr>\n",
       "    <tr>\n",
       "      <th>7591</th>\n",
       "      <td>5465</td>\n",
       "      <td>flames</td>\n",
       "      <td>New York</td>\n",
       "      <td>*NEW* Snap On Tools Black baseball Hat/Cap Sil...</td>\n",
       "      <td>0</td>\n",
       "    </tr>\n",
       "    <tr>\n",
       "      <th>7592</th>\n",
       "      <td>5905</td>\n",
       "      <td>harm</td>\n",
       "      <td>WORLD WIDE</td>\n",
       "      <td>ÛÏFor I know the plans I have for youÛ decl...</td>\n",
       "      <td>0</td>\n",
       "    </tr>\n",
       "    <tr>\n",
       "      <th>7593</th>\n",
       "      <td>752</td>\n",
       "      <td>avalanche</td>\n",
       "      <td>NaN</td>\n",
       "      <td>#Colorado #Avalanche Men's Official Colorado A...</td>\n",
       "      <td>0</td>\n",
       "    </tr>\n",
       "    <tr>\n",
       "      <th>7594</th>\n",
       "      <td>2945</td>\n",
       "      <td>danger</td>\n",
       "      <td>Israel</td>\n",
       "      <td>In my experience if you're always angry and cr...</td>\n",
       "      <td>0</td>\n",
       "    </tr>\n",
       "    <tr>\n",
       "      <th>7595</th>\n",
       "      <td>8298</td>\n",
       "      <td>rubble</td>\n",
       "      <td>NaN</td>\n",
       "      <td>My parents are so impulsive sometimes. I remem...</td>\n",
       "      <td>0</td>\n",
       "    </tr>\n",
       "    <tr>\n",
       "      <th>7596</th>\n",
       "      <td>10730</td>\n",
       "      <td>wreck</td>\n",
       "      <td>NaN</td>\n",
       "      <td>@TitorTau The Loretta Lynch one was fuckin' HI...</td>\n",
       "      <td>0</td>\n",
       "    </tr>\n",
       "    <tr>\n",
       "      <th>7597</th>\n",
       "      <td>2255</td>\n",
       "      <td>cliff%20fall</td>\n",
       "      <td>NaN</td>\n",
       "      <td>@D33munni @JeanNamibian noooooooo ... *proceed...</td>\n",
       "      <td>0</td>\n",
       "    </tr>\n",
       "    <tr>\n",
       "      <th>7598</th>\n",
       "      <td>5982</td>\n",
       "      <td>hazard</td>\n",
       "      <td>ilford</td>\n",
       "      <td>Fair enough we have two of the best attacking ...</td>\n",
       "      <td>0</td>\n",
       "    </tr>\n",
       "    <tr>\n",
       "      <th>7599</th>\n",
       "      <td>9007</td>\n",
       "      <td>stretcher</td>\n",
       "      <td>hatena bookmark</td>\n",
       "      <td>*New!* Stretcher in 5 min https://t.co/q5MDsNb...</td>\n",
       "      <td>0</td>\n",
       "    </tr>\n",
       "    <tr>\n",
       "      <th>7600</th>\n",
       "      <td>6793</td>\n",
       "      <td>lightning</td>\n",
       "      <td>Reddit</td>\n",
       "      <td>Lightning strike in the distance via /r/pics h...</td>\n",
       "      <td>1</td>\n",
       "    </tr>\n",
       "    <tr>\n",
       "      <th>7601</th>\n",
       "      <td>3521</td>\n",
       "      <td>derailment</td>\n",
       "      <td>NaN</td>\n",
       "      <td>@greateranglia I know the cow incident not yr ...</td>\n",
       "      <td>1</td>\n",
       "    </tr>\n",
       "    <tr>\n",
       "      <th>7602</th>\n",
       "      <td>4204</td>\n",
       "      <td>drowned</td>\n",
       "      <td>Alberta, VA</td>\n",
       "      <td>http://t.co/MoA0q0AuFa Jacksonville family ban...</td>\n",
       "      <td>0</td>\n",
       "    </tr>\n",
       "    <tr>\n",
       "      <th>7603</th>\n",
       "      <td>9940</td>\n",
       "      <td>trouble</td>\n",
       "      <td>NaN</td>\n",
       "      <td>@cspan #Prez. Mr. President you are the bigges...</td>\n",
       "      <td>1</td>\n",
       "    </tr>\n",
       "    <tr>\n",
       "      <th>7604</th>\n",
       "      <td>9341</td>\n",
       "      <td>survive</td>\n",
       "      <td>NaN</td>\n",
       "      <td>Suicide of a Superpower : Will America Survive...</td>\n",
       "      <td>0</td>\n",
       "    </tr>\n",
       "    <tr>\n",
       "      <th>7605</th>\n",
       "      <td>5919</td>\n",
       "      <td>harm</td>\n",
       "      <td>10-Jul</td>\n",
       "      <td>@wowsavannah what's the harm?? they're collect...</td>\n",
       "      <td>0</td>\n",
       "    </tr>\n",
       "    <tr>\n",
       "      <th>7606</th>\n",
       "      <td>2141</td>\n",
       "      <td>catastrophe</td>\n",
       "      <td>Azeroth</td>\n",
       "      <td>Chances are many of us are still digging out f...</td>\n",
       "      <td>1</td>\n",
       "    </tr>\n",
       "    <tr>\n",
       "      <th>7607</th>\n",
       "      <td>8068</td>\n",
       "      <td>rescue</td>\n",
       "      <td>NaN</td>\n",
       "      <td>Coastal German Shepherd Rescue OC shared a lin...</td>\n",
       "      <td>0</td>\n",
       "    </tr>\n",
       "    <tr>\n",
       "      <th>7608</th>\n",
       "      <td>9287</td>\n",
       "      <td>sunk</td>\n",
       "      <td>NaN</td>\n",
       "      <td>@silverstar58200 I felt bad for Romero. He car...</td>\n",
       "      <td>0</td>\n",
       "    </tr>\n",
       "    <tr>\n",
       "      <th>7609</th>\n",
       "      <td>4405</td>\n",
       "      <td>electrocute</td>\n",
       "      <td>NaN</td>\n",
       "      <td>when you got an extension cord that extends fr...</td>\n",
       "      <td>0</td>\n",
       "    </tr>\n",
       "    <tr>\n",
       "      <th>7610</th>\n",
       "      <td>3721</td>\n",
       "      <td>destroyed</td>\n",
       "      <td>NaN</td>\n",
       "      <td>Russian customs destroyed a total of 319 tons ...</td>\n",
       "      <td>0</td>\n",
       "    </tr>\n",
       "    <tr>\n",
       "      <th>7611</th>\n",
       "      <td>5954</td>\n",
       "      <td>hazard</td>\n",
       "      <td>NaN</td>\n",
       "      <td>The Eden Hazard of Hockey https://t.co/RbbnjkoqUD</td>\n",
       "      <td>0</td>\n",
       "    </tr>\n",
       "    <tr>\n",
       "      <th>7612</th>\n",
       "      <td>64</td>\n",
       "      <td>ablaze</td>\n",
       "      <td>NaN</td>\n",
       "      <td>I wanted to set Chicago ablaze with my preachi...</td>\n",
       "      <td>0</td>\n",
       "    </tr>\n",
       "  </tbody>\n",
       "</table>\n",
       "<p>7613 rows × 5 columns</p>\n",
       "</div>"
      ],
      "text/plain": [
       "         id               keyword                        location  \\\n",
       "0      1572                  bomb                             NaN   \n",
       "1     10546             windstorm             Georgia ? Tennessee   \n",
       "2     10647                wounds                        Kashmir!   \n",
       "3      5886                  harm              Massachusetts, USA   \n",
       "4      5284                  fear                             NaN   \n",
       "5      6801           loud%20bang                             NaN   \n",
       "6      3136                debris                 Berlin, Germany   \n",
       "7      8817                sirens                 miami x dallas    \n",
       "8      2643               crashed                    Kingswinford   \n",
       "9      7580              outbreak                        Anywhere   \n",
       "10     9208     suicide%20bombing                             NaN   \n",
       "11     5178            fatalities                             NaN   \n",
       "12     9907           traumatised                             NaN   \n",
       "13     3256              demolish                    ÌÏT: 0.0,0.0   \n",
       "14      476            armageddon                      East Coast   \n",
       "15     6085              hellfire             Rheinbach / Germany   \n",
       "16     8289               rioting  A little house in the outback.   \n",
       "17     4385            earthquake       Desde Republica Argentina   \n",
       "18     6736                  lava                       Indonesia   \n",
       "19     8473              screamed                             NaN   \n",
       "20      898          bioterrorism                             NaN   \n",
       "21     9212     suicide%20bombing                        Istanbul   \n",
       "22     1319                bloody                              PH   \n",
       "23     9597               thunder                     Accra,Ghana   \n",
       "24     7295     nuclear%20reactor                             NaN   \n",
       "25     4395            earthquake                     Seattle, WA   \n",
       "26     1525           body%20bags                             NaN   \n",
       "27     5675                floods                      California   \n",
       "28     7169              mudslide                      the burrow   \n",
       "29     5238              fatality                        Utica NY   \n",
       "...     ...                   ...                             ...   \n",
       "7583   4608  emergency%20services                             NaN   \n",
       "7584   4442           electrocute                   Cairo, Egypt.   \n",
       "7585   9657          thunderstorm                             NaN   \n",
       "7586   1362            blown%20up                             NaN   \n",
       "7587   3114                debris              46.950109,7.439469   \n",
       "7588   3006                 death                             NaN   \n",
       "7589   1090             blew%20up                             NaN   \n",
       "7590   3982           devastation                             NaN   \n",
       "7591   5465                flames                        New York   \n",
       "7592   5905                  harm                      WORLD WIDE   \n",
       "7593    752             avalanche                             NaN   \n",
       "7594   2945                danger                          Israel   \n",
       "7595   8298                rubble                             NaN   \n",
       "7596  10730                 wreck                             NaN   \n",
       "7597   2255          cliff%20fall                             NaN   \n",
       "7598   5982                hazard                          ilford   \n",
       "7599   9007             stretcher                 hatena bookmark   \n",
       "7600   6793             lightning                         Reddit    \n",
       "7601   3521            derailment                             NaN   \n",
       "7602   4204               drowned                     Alberta, VA   \n",
       "7603   9940               trouble                             NaN   \n",
       "7604   9341               survive                             NaN   \n",
       "7605   5919                  harm                          10-Jul   \n",
       "7606   2141           catastrophe                         Azeroth   \n",
       "7607   8068                rescue                             NaN   \n",
       "7608   9287                  sunk                             NaN   \n",
       "7609   4405           electrocute                             NaN   \n",
       "7610   3721             destroyed                             NaN   \n",
       "7611   5954                hazard                             NaN   \n",
       "7612     64                ablaze                             NaN   \n",
       "\n",
       "                                                   text  target  \n",
       "0     The bomb was so appropriate ?? seen as my fami...       0  \n",
       "1     When I breathe it sounds like a windstorm. Hah...       0  \n",
       "2     Acc to the study conducted by SKIMS morethan 5...       1  \n",
       "3     @tareksocal I think a lot of celebrities have ...       0  \n",
       "4     I want to be with you forever\\nStay by my side...       0  \n",
       "5     #ActionMoviesTaughtUs things actually can expl...       0  \n",
       "6     Experts leave lab as Malaysia confirms debris ...       1  \n",
       "7                 Lets Goooooooo http://t.co/fZ5eW4iHmB       0  \n",
       "8     I just nearly crashed my car typing 'Paul Rudd...       0  \n",
       "9     Families to sue over Legionnaires: More than 4...       1  \n",
       "10    @JewhadiTM It is almost amazing to think someo...       1  \n",
       "11    Injuries Illnesses and Fatalities Latest Numbe...       1  \n",
       "12    @brookesddl I am traumatised the lil shit near...       0  \n",
       "13    Enugu Government to demolish illegal structure...       0  \n",
       "14    @Karnythia my niece is gaining the ability to ...       0  \n",
       "15    Orchid - Sign Of The Witch http://t.co/YtkXwPyIHg       0  \n",
       "16    AM `bbcnews The Ass British Insurers says riot...       1  \n",
       "17    #Sismo M 1.3 - 1km NNE of The Geysers Californ...       0  \n",
       "18    @YoungHeroesID 4. Lava Blast Power Red #Panthe...       0  \n",
       "19    Not because i want to cheat or anything. Just ...       0  \n",
       "20                           To fight bioterrorism sir.       0  \n",
       "21    INFOGRAPHIC: At least 20 Turkish security offi...       1  \n",
       "22    Friday supposed to be a happy day but it's a b...       0  \n",
       "23    Please please u gotta listen to @leonalewis # ...       0  \n",
       "24                                              Err:509       0  \n",
       "25    Sure the #Megaquake story brought a sense of p...       1  \n",
       "26    Zicac Vintage Leather Briefcase Messenger Satc...       0  \n",
       "27    Floods Fishing Finally Sunshine &amp; Fab Deal...       0  \n",
       "28    DORETTE THATS THE NAME OF THE MUDSLIDE CAKE MAKER       0  \n",
       "29    08/3/15: CAT FATALITY: UTICA NY; PLEASANT &amp...       0  \n",
       "...                                                 ...     ...  \n",
       "7583  We're #hiring! Click to apply: RN II/EMERGENCY...       1  \n",
       "7584             But the sea would..electrocute us all.       0  \n",
       "7585  #usNWSgov Severe Weather Statement issued Augu...       1  \n",
       "7586  Guaranteed been bitten by some mutant mosquito...       0  \n",
       "7587  How Missing JetÛªs Debris Could Have Floated ...       1  \n",
       "7588                my vibrator shaped vape done busted       0  \n",
       "7589  I think I just blew up @HopeInHearts notificat...       0  \n",
       "7590  70 Years After Atomic Bombs Japan Still Strugg...       1  \n",
       "7591  *NEW* Snap On Tools Black baseball Hat/Cap Sil...       0  \n",
       "7592  ÛÏFor I know the plans I have for youÛ decl...       0  \n",
       "7593  #Colorado #Avalanche Men's Official Colorado A...       0  \n",
       "7594  In my experience if you're always angry and cr...       0  \n",
       "7595  My parents are so impulsive sometimes. I remem...       0  \n",
       "7596  @TitorTau The Loretta Lynch one was fuckin' HI...       0  \n",
       "7597  @D33munni @JeanNamibian noooooooo ... *proceed...       0  \n",
       "7598  Fair enough we have two of the best attacking ...       0  \n",
       "7599  *New!* Stretcher in 5 min https://t.co/q5MDsNb...       0  \n",
       "7600  Lightning strike in the distance via /r/pics h...       1  \n",
       "7601  @greateranglia I know the cow incident not yr ...       1  \n",
       "7602  http://t.co/MoA0q0AuFa Jacksonville family ban...       0  \n",
       "7603  @cspan #Prez. Mr. President you are the bigges...       1  \n",
       "7604  Suicide of a Superpower : Will America Survive...       0  \n",
       "7605  @wowsavannah what's the harm?? they're collect...       0  \n",
       "7606  Chances are many of us are still digging out f...       1  \n",
       "7607  Coastal German Shepherd Rescue OC shared a lin...       0  \n",
       "7608  @silverstar58200 I felt bad for Romero. He car...       0  \n",
       "7609  when you got an extension cord that extends fr...       0  \n",
       "7610  Russian customs destroyed a total of 319 tons ...       0  \n",
       "7611  The Eden Hazard of Hockey https://t.co/RbbnjkoqUD       0  \n",
       "7612  I wanted to set Chicago ablaze with my preachi...       0  \n",
       "\n",
       "[7613 rows x 5 columns]"
      ]
     },
     "execution_count": 6,
     "metadata": {},
     "output_type": "execute_result"
    }
   ],
   "source": [
    "import pandas as pd\n",
    "import numpy as np\n",
    "train_dataset = pd.read_csv('train.csv')\n",
    "train_dataset = train_dataset.sample(frac=1).reset_index(drop=True)\n",
    "predict_dataset = pd.read_csv('test.csv')\n",
    "\n",
    "train_dataset"
   ]
  },
  {
   "cell_type": "code",
   "execution_count": 7,
   "metadata": {},
   "outputs": [
    {
     "data": {
      "text/plain": [
       "id          7613\n",
       "keyword     7552\n",
       "location    5080\n",
       "text        7613\n",
       "target      7613\n",
       "dtype: int64"
      ]
     },
     "execution_count": 7,
     "metadata": {},
     "output_type": "execute_result"
    }
   ],
   "source": [
    "train_dataset.count()\n",
    "#The dataset (train and test) has 10876 lines, 7613 have the variable \"target\" (train) and 3263 are test data\n",
    "#The variable keyword gives the theme of the tweet, it allows to categorize tweets, it is missing in some instances\n",
    "#Text is the tweet, they are all in English, they contain many special characters that need to be removed\n",
    "#Location is missing on a majority of instance"
   ]
  },
  {
   "cell_type": "code",
   "execution_count": 8,
   "metadata": {},
   "outputs": [
    {
     "data": {
      "text/plain": [
       "id             0\n",
       "keyword       61\n",
       "location    2533\n",
       "text           0\n",
       "target         0\n",
       "dtype: int64"
      ]
     },
     "execution_count": 8,
     "metadata": {},
     "output_type": "execute_result"
    }
   ],
   "source": [
    "train_dataset.isna().sum()"
   ]
  },
  {
   "cell_type": "markdown",
   "metadata": {},
   "source": [
    "# Treatment of the \"text\" variable\n"
   ]
  },
  {
   "cell_type": "code",
   "execution_count": 9,
   "metadata": {},
   "outputs": [],
   "source": [
    "#Extracting hashtags\n",
    "import re\n",
    "def extract_hashtags(dataset):\n",
    "    hashtags = dataset['text'].str.extractall(r'#([A-Za-z0-9]+)')\n",
    "    hashtags.index = hashtags.index.get_level_values(0)\n",
    "    hashtags = hashtags.groupby([hashtags.index]).agg(lambda col: list(col))\n",
    "    hashtags = hashtags.rename(columns={0:'hashtags'})\n",
    "    dataset = dataset.merge(hashtags, how='left', left_index=True, right_index=True)\n",
    "    return dataset\n",
    "\n",
    "train_dataset = extract_hashtags(train_dataset)\n",
    "predict_dataset = extract_hashtags(predict_dataset)"
   ]
  },
  {
   "cell_type": "code",
   "execution_count": 10,
   "metadata": {},
   "outputs": [],
   "source": [
    "def normalize_text(string):\n",
    "    string = string.lower()\n",
    "    string = re.sub('http[\\S]+', '', string)\n",
    "    string = re.sub('[^\\w\\s]','', string)\n",
    "    string = re.sub('[0-9]+', '', string)\n",
    "    return string"
   ]
  },
  {
   "cell_type": "code",
   "execution_count": 11,
   "metadata": {},
   "outputs": [],
   "source": [
    "train_dataset['text'] = train_dataset['text'].apply(lambda string : normalize_text(string))\n",
    "predict_dataset['text'] = predict_dataset['text'].apply(lambda string : normalize_text(string))"
   ]
  },
  {
   "cell_type": "markdown",
   "metadata": {},
   "source": [
    "# Tfidf vectorization and simple NN"
   ]
  },
  {
   "cell_type": "code",
   "execution_count": 8,
   "metadata": {},
   "outputs": [],
   "source": [
    "#Spacy tokenization + Lemmatization + removing stop words"
   ]
  },
  {
   "cell_type": "code",
   "execution_count": 9,
   "metadata": {},
   "outputs": [],
   "source": [
    "import spacy\n",
    "nlp = spacy.load('en_core_web_md')\n",
    "stop_words = nlp.Defaults.stop_words\n",
    "\n",
    "def tokenize(string):\n",
    "    tokens = nlp(string)\n",
    "    tokens_nostop = ''\n",
    "    for token in tokens:\n",
    "        if token.text not in stop_words:\n",
    "            tokens_nostop = tokens_nostop + ' ' + token.lemma_\n",
    "    return tokens_nostop"
   ]
  },
  {
   "cell_type": "code",
   "execution_count": 9,
   "metadata": {},
   "outputs": [],
   "source": [
    "train_dataset['text'] = train_dataset['text'].apply(lambda text: tokenize(text))\n",
    "predict_dataset['text'] = predict_dataset['text'].apply(lambda text: tokenize(text))"
   ]
  },
  {
   "cell_type": "code",
   "execution_count": 10,
   "metadata": {},
   "outputs": [],
   "source": [
    "# TfIdf Vectorization\n",
    "from sklearn.feature_extraction.text import TfidfVectorizer\n",
    "\n",
    "tfidf_vectorizer = TfidfVectorizer(min_df=2)\n",
    "tfidf_vectorizer.fit(train_dataset['text'])\n",
    "\n",
    "train_dataset_X = tfidf_vectorizer.transform(train_dataset['text']).toarray()\n",
    "predict_dataset_X = tfidf_vectorizer.transform(predict_dataset['text']).toarray()\n",
    "\n",
    "#y\n",
    "train_dataset_y = np.array(train_dataset['target'])"
   ]
  },
  {
   "cell_type": "code",
   "execution_count": 11,
   "metadata": {},
   "outputs": [],
   "source": [
    "#Split train and test data\n",
    "from sklearn.model_selection import train_test_split\n",
    "X_train, X_test, y_train, y_test = train_test_split(train_dataset_X, train_dataset_y, test_size=0.33, random_state=42)"
   ]
  },
  {
   "cell_type": "markdown",
   "metadata": {},
   "source": [
    "# Logistic regression"
   ]
  },
  {
   "cell_type": "code",
   "execution_count": 100,
   "metadata": {},
   "outputs": [
    {
     "name": "stderr",
     "output_type": "stream",
     "text": [
      "C:\\Users\\jean_\\anaconda3\\envs\\nlp_course\\lib\\site-packages\\sklearn\\linear_model\\logistic.py:433: FutureWarning: Default solver will be changed to 'lbfgs' in 0.22. Specify a solver to silence this warning.\n",
      "  FutureWarning)\n"
     ]
    }
   ],
   "source": [
    "#Model: simple logistic regression on tfidf features\n",
    "from sklearn.linear_model import LogisticRegression\n",
    "\n",
    "classifier = LogisticRegression()\n",
    "classifier.fit(X_train, y_train)\n",
    "y_test_predicted = classifier.predict(X_test)"
   ]
  },
  {
   "cell_type": "code",
   "execution_count": 101,
   "metadata": {},
   "outputs": [
    {
     "name": "stdout",
     "output_type": "stream",
     "text": [
      "Accuracy is: 79.62594508555512%\n"
     ]
    }
   ],
   "source": [
    "#Performance metrics\n",
    "import seaborn as sns\n",
    "from sklearn.metrics import accuracy_score\n",
    "from sklearn.metrics import confusion_matrix\n",
    "\n",
    "accuracy = accuracy_score(y_test, y_test_predicted)\n",
    "print('Accuracy is: '+ str(100*accuracy)+'%')"
   ]
  },
  {
   "cell_type": "code",
   "execution_count": 102,
   "metadata": {},
   "outputs": [
    {
     "data": {
      "text/plain": [
       "array([[1295,  127],\n",
       "       [ 385,  706]], dtype=int64)"
      ]
     },
     "execution_count": 102,
     "metadata": {},
     "output_type": "execute_result"
    }
   ],
   "source": [
    "confusion_matrix(y_test, y_test_predicted)"
   ]
  },
  {
   "cell_type": "code",
   "execution_count": 103,
   "metadata": {},
   "outputs": [],
   "source": [
    "predict_dataset_predict_y = classifier.predict(predict_dataset_X)"
   ]
  },
  {
   "cell_type": "code",
   "execution_count": 104,
   "metadata": {},
   "outputs": [],
   "source": [
    "prediction_df = pd.DataFrame(predict_dataset_predict_y, columns=['target'])"
   ]
  },
  {
   "cell_type": "code",
   "execution_count": 105,
   "metadata": {},
   "outputs": [],
   "source": [
    "prediction_df = prediction_df.merge(predict_dataset[['id']], left_index=True, right_index=True)"
   ]
  },
  {
   "cell_type": "code",
   "execution_count": 106,
   "metadata": {},
   "outputs": [],
   "source": [
    "prediction_df = prediction_df[['id','target']]\n",
    "prediction_df.to_csv('submission1.csv', index=False)"
   ]
  },
  {
   "cell_type": "code",
   "execution_count": 107,
   "metadata": {},
   "outputs": [
    {
     "data": {
      "text/plain": [
       "(3263, 2)"
      ]
     },
     "execution_count": 107,
     "metadata": {},
     "output_type": "execute_result"
    }
   ],
   "source": [
    "#This submission got a result of 79.4%"
   ]
  },
  {
   "cell_type": "markdown",
   "metadata": {},
   "source": [
    "# Neural network for classification"
   ]
  },
  {
   "cell_type": "code",
   "execution_count": 3,
   "metadata": {},
   "outputs": [
    {
     "name": "stderr",
     "output_type": "stream",
     "text": [
      "Using TensorFlow backend.\n"
     ]
    },
    {
     "ename": "ModuleNotFoundError",
     "evalue": "No module named 'opt_einsum'",
     "output_type": "error",
     "traceback": [
      "\u001b[1;31m---------------------------------------------------------------------------\u001b[0m",
      "\u001b[1;31mModuleNotFoundError\u001b[0m                       Traceback (most recent call last)",
      "\u001b[1;32m<ipython-input-3-47741b6ba1f4>\u001b[0m in \u001b[0;36m<module>\u001b[1;34m\u001b[0m\n\u001b[0;32m      1\u001b[0m \u001b[1;31m#Neural network\u001b[0m\u001b[1;33m\u001b[0m\u001b[1;33m\u001b[0m\u001b[1;33m\u001b[0m\u001b[0m\n\u001b[1;32m----> 2\u001b[1;33m \u001b[1;32mfrom\u001b[0m \u001b[0mkeras\u001b[0m\u001b[1;33m.\u001b[0m\u001b[0mmodels\u001b[0m \u001b[1;32mimport\u001b[0m \u001b[0mSequential\u001b[0m\u001b[1;33m\u001b[0m\u001b[1;33m\u001b[0m\u001b[0m\n\u001b[0m\u001b[0;32m      3\u001b[0m \u001b[1;32mfrom\u001b[0m \u001b[0mkeras\u001b[0m\u001b[1;33m.\u001b[0m\u001b[0mlayers\u001b[0m \u001b[1;32mimport\u001b[0m \u001b[0mDense\u001b[0m\u001b[1;33m,\u001b[0m \u001b[0mDropout\u001b[0m\u001b[1;33m\u001b[0m\u001b[1;33m\u001b[0m\u001b[0m\n\u001b[0;32m      4\u001b[0m \u001b[1;32mfrom\u001b[0m \u001b[0mkeras\u001b[0m \u001b[1;32mimport\u001b[0m \u001b[0mregularizers\u001b[0m\u001b[1;33m\u001b[0m\u001b[1;33m\u001b[0m\u001b[0m\n\u001b[0;32m      5\u001b[0m \u001b[1;33m\u001b[0m\u001b[0m\n",
      "\u001b[1;32m~\\anaconda3\\envs\\nlp_course\\lib\\site-packages\\keras\\__init__.py\u001b[0m in \u001b[0;36m<module>\u001b[1;34m\u001b[0m\n\u001b[0;32m      1\u001b[0m \u001b[1;32mfrom\u001b[0m \u001b[0m__future__\u001b[0m \u001b[1;32mimport\u001b[0m \u001b[0mabsolute_import\u001b[0m\u001b[1;33m\u001b[0m\u001b[1;33m\u001b[0m\u001b[0m\n\u001b[0;32m      2\u001b[0m \u001b[1;33m\u001b[0m\u001b[0m\n\u001b[1;32m----> 3\u001b[1;33m \u001b[1;32mfrom\u001b[0m \u001b[1;33m.\u001b[0m \u001b[1;32mimport\u001b[0m \u001b[0mutils\u001b[0m\u001b[1;33m\u001b[0m\u001b[1;33m\u001b[0m\u001b[0m\n\u001b[0m\u001b[0;32m      4\u001b[0m \u001b[1;32mfrom\u001b[0m \u001b[1;33m.\u001b[0m \u001b[1;32mimport\u001b[0m \u001b[0mactivations\u001b[0m\u001b[1;33m\u001b[0m\u001b[1;33m\u001b[0m\u001b[0m\n\u001b[0;32m      5\u001b[0m \u001b[1;32mfrom\u001b[0m \u001b[1;33m.\u001b[0m \u001b[1;32mimport\u001b[0m \u001b[0mapplications\u001b[0m\u001b[1;33m\u001b[0m\u001b[1;33m\u001b[0m\u001b[0m\n",
      "\u001b[1;32m~\\anaconda3\\envs\\nlp_course\\lib\\site-packages\\keras\\utils\\__init__.py\u001b[0m in \u001b[0;36m<module>\u001b[1;34m\u001b[0m\n\u001b[0;32m      4\u001b[0m \u001b[1;32mfrom\u001b[0m \u001b[1;33m.\u001b[0m \u001b[1;32mimport\u001b[0m \u001b[0mdata_utils\u001b[0m\u001b[1;33m\u001b[0m\u001b[1;33m\u001b[0m\u001b[0m\n\u001b[0;32m      5\u001b[0m \u001b[1;32mfrom\u001b[0m \u001b[1;33m.\u001b[0m \u001b[1;32mimport\u001b[0m \u001b[0mio_utils\u001b[0m\u001b[1;33m\u001b[0m\u001b[1;33m\u001b[0m\u001b[0m\n\u001b[1;32m----> 6\u001b[1;33m \u001b[1;32mfrom\u001b[0m \u001b[1;33m.\u001b[0m \u001b[1;32mimport\u001b[0m \u001b[0mconv_utils\u001b[0m\u001b[1;33m\u001b[0m\u001b[1;33m\u001b[0m\u001b[0m\n\u001b[0m\u001b[0;32m      7\u001b[0m \u001b[1;32mfrom\u001b[0m \u001b[1;33m.\u001b[0m \u001b[1;32mimport\u001b[0m \u001b[0mlosses_utils\u001b[0m\u001b[1;33m\u001b[0m\u001b[1;33m\u001b[0m\u001b[0m\n\u001b[0;32m      8\u001b[0m \u001b[1;32mfrom\u001b[0m \u001b[1;33m.\u001b[0m \u001b[1;32mimport\u001b[0m \u001b[0mmetrics_utils\u001b[0m\u001b[1;33m\u001b[0m\u001b[1;33m\u001b[0m\u001b[0m\n",
      "\u001b[1;32m~\\anaconda3\\envs\\nlp_course\\lib\\site-packages\\keras\\utils\\conv_utils.py\u001b[0m in \u001b[0;36m<module>\u001b[1;34m\u001b[0m\n\u001b[0;32m      7\u001b[0m \u001b[1;32mfrom\u001b[0m \u001b[0msix\u001b[0m\u001b[1;33m.\u001b[0m\u001b[0mmoves\u001b[0m \u001b[1;32mimport\u001b[0m \u001b[0mrange\u001b[0m\u001b[1;33m\u001b[0m\u001b[1;33m\u001b[0m\u001b[0m\n\u001b[0;32m      8\u001b[0m \u001b[1;32mimport\u001b[0m \u001b[0mnumpy\u001b[0m \u001b[1;32mas\u001b[0m \u001b[0mnp\u001b[0m\u001b[1;33m\u001b[0m\u001b[1;33m\u001b[0m\u001b[0m\n\u001b[1;32m----> 9\u001b[1;33m \u001b[1;32mfrom\u001b[0m \u001b[1;33m.\u001b[0m\u001b[1;33m.\u001b[0m \u001b[1;32mimport\u001b[0m \u001b[0mbackend\u001b[0m \u001b[1;32mas\u001b[0m \u001b[0mK\u001b[0m\u001b[1;33m\u001b[0m\u001b[1;33m\u001b[0m\u001b[0m\n\u001b[0m\u001b[0;32m     10\u001b[0m \u001b[1;33m\u001b[0m\u001b[0m\n\u001b[0;32m     11\u001b[0m \u001b[1;33m\u001b[0m\u001b[0m\n",
      "\u001b[1;32m~\\anaconda3\\envs\\nlp_course\\lib\\site-packages\\keras\\backend\\__init__.py\u001b[0m in \u001b[0;36m<module>\u001b[1;34m\u001b[0m\n\u001b[1;32m----> 1\u001b[1;33m \u001b[1;32mfrom\u001b[0m \u001b[1;33m.\u001b[0m\u001b[0mload_backend\u001b[0m \u001b[1;32mimport\u001b[0m \u001b[0mepsilon\u001b[0m\u001b[1;33m\u001b[0m\u001b[1;33m\u001b[0m\u001b[0m\n\u001b[0m\u001b[0;32m      2\u001b[0m \u001b[1;32mfrom\u001b[0m \u001b[1;33m.\u001b[0m\u001b[0mload_backend\u001b[0m \u001b[1;32mimport\u001b[0m \u001b[0mset_epsilon\u001b[0m\u001b[1;33m\u001b[0m\u001b[1;33m\u001b[0m\u001b[0m\n\u001b[0;32m      3\u001b[0m \u001b[1;32mfrom\u001b[0m \u001b[1;33m.\u001b[0m\u001b[0mload_backend\u001b[0m \u001b[1;32mimport\u001b[0m \u001b[0mfloatx\u001b[0m\u001b[1;33m\u001b[0m\u001b[1;33m\u001b[0m\u001b[0m\n\u001b[0;32m      4\u001b[0m \u001b[1;32mfrom\u001b[0m \u001b[1;33m.\u001b[0m\u001b[0mload_backend\u001b[0m \u001b[1;32mimport\u001b[0m \u001b[0mset_floatx\u001b[0m\u001b[1;33m\u001b[0m\u001b[1;33m\u001b[0m\u001b[0m\n\u001b[0;32m      5\u001b[0m \u001b[1;32mfrom\u001b[0m \u001b[1;33m.\u001b[0m\u001b[0mload_backend\u001b[0m \u001b[1;32mimport\u001b[0m \u001b[0mcast_to_floatx\u001b[0m\u001b[1;33m\u001b[0m\u001b[1;33m\u001b[0m\u001b[0m\n",
      "\u001b[1;32m~\\anaconda3\\envs\\nlp_course\\lib\\site-packages\\keras\\backend\\load_backend.py\u001b[0m in \u001b[0;36m<module>\u001b[1;34m\u001b[0m\n\u001b[0;32m     88\u001b[0m \u001b[1;32melif\u001b[0m \u001b[0m_BACKEND\u001b[0m \u001b[1;33m==\u001b[0m \u001b[1;34m'tensorflow'\u001b[0m\u001b[1;33m:\u001b[0m\u001b[1;33m\u001b[0m\u001b[1;33m\u001b[0m\u001b[0m\n\u001b[0;32m     89\u001b[0m     \u001b[0msys\u001b[0m\u001b[1;33m.\u001b[0m\u001b[0mstderr\u001b[0m\u001b[1;33m.\u001b[0m\u001b[0mwrite\u001b[0m\u001b[1;33m(\u001b[0m\u001b[1;34m'Using TensorFlow backend.\\n'\u001b[0m\u001b[1;33m)\u001b[0m\u001b[1;33m\u001b[0m\u001b[1;33m\u001b[0m\u001b[0m\n\u001b[1;32m---> 90\u001b[1;33m     \u001b[1;32mfrom\u001b[0m \u001b[1;33m.\u001b[0m\u001b[0mtensorflow_backend\u001b[0m \u001b[1;32mimport\u001b[0m \u001b[1;33m*\u001b[0m\u001b[1;33m\u001b[0m\u001b[1;33m\u001b[0m\u001b[0m\n\u001b[0m\u001b[0;32m     91\u001b[0m \u001b[1;32melse\u001b[0m\u001b[1;33m:\u001b[0m\u001b[1;33m\u001b[0m\u001b[1;33m\u001b[0m\u001b[0m\n\u001b[0;32m     92\u001b[0m     \u001b[1;31m# Try and load external backend.\u001b[0m\u001b[1;33m\u001b[0m\u001b[1;33m\u001b[0m\u001b[1;33m\u001b[0m\u001b[0m\n",
      "\u001b[1;32m~\\anaconda3\\envs\\nlp_course\\lib\\site-packages\\keras\\backend\\tensorflow_backend.py\u001b[0m in \u001b[0;36m<module>\u001b[1;34m\u001b[0m\n\u001b[0;32m      3\u001b[0m \u001b[1;32mfrom\u001b[0m \u001b[0m__future__\u001b[0m \u001b[1;32mimport\u001b[0m \u001b[0mprint_function\u001b[0m\u001b[1;33m\u001b[0m\u001b[1;33m\u001b[0m\u001b[0m\n\u001b[0;32m      4\u001b[0m \u001b[1;33m\u001b[0m\u001b[0m\n\u001b[1;32m----> 5\u001b[1;33m \u001b[1;32mimport\u001b[0m \u001b[0mtensorflow\u001b[0m \u001b[1;32mas\u001b[0m \u001b[0mtf\u001b[0m\u001b[1;33m\u001b[0m\u001b[1;33m\u001b[0m\u001b[0m\n\u001b[0m\u001b[0;32m      6\u001b[0m \u001b[1;32mfrom\u001b[0m \u001b[0mtensorflow\u001b[0m\u001b[1;33m.\u001b[0m\u001b[0mpython\u001b[0m\u001b[1;33m.\u001b[0m\u001b[0meager\u001b[0m \u001b[1;32mimport\u001b[0m \u001b[0mcontext\u001b[0m\u001b[1;33m\u001b[0m\u001b[1;33m\u001b[0m\u001b[0m\n\u001b[0;32m      7\u001b[0m \u001b[1;32mfrom\u001b[0m \u001b[0mtensorflow\u001b[0m\u001b[1;33m.\u001b[0m\u001b[0mpython\u001b[0m\u001b[1;33m.\u001b[0m\u001b[0mframework\u001b[0m \u001b[1;32mimport\u001b[0m \u001b[0mdevice\u001b[0m \u001b[1;32mas\u001b[0m \u001b[0mtfdev\u001b[0m\u001b[1;33m\u001b[0m\u001b[1;33m\u001b[0m\u001b[0m\n",
      "\u001b[1;32m~\\AppData\\Roaming\\Python\\Python37\\site-packages\\tensorflow\\__init__.py\u001b[0m in \u001b[0;36m<module>\u001b[1;34m\u001b[0m\n\u001b[0;32m     39\u001b[0m \u001b[1;32mimport\u001b[0m \u001b[0msys\u001b[0m \u001b[1;32mas\u001b[0m \u001b[0m_sys\u001b[0m\u001b[1;33m\u001b[0m\u001b[1;33m\u001b[0m\u001b[0m\n\u001b[0;32m     40\u001b[0m \u001b[1;33m\u001b[0m\u001b[0m\n\u001b[1;32m---> 41\u001b[1;33m \u001b[1;32mfrom\u001b[0m \u001b[0mtensorflow\u001b[0m\u001b[1;33m.\u001b[0m\u001b[0mpython\u001b[0m\u001b[1;33m.\u001b[0m\u001b[0mtools\u001b[0m \u001b[1;32mimport\u001b[0m \u001b[0mmodule_util\u001b[0m \u001b[1;32mas\u001b[0m \u001b[0m_module_util\u001b[0m\u001b[1;33m\u001b[0m\u001b[1;33m\u001b[0m\u001b[0m\n\u001b[0m\u001b[0;32m     42\u001b[0m \u001b[1;32mfrom\u001b[0m \u001b[0mtensorflow\u001b[0m\u001b[1;33m.\u001b[0m\u001b[0mpython\u001b[0m\u001b[1;33m.\u001b[0m\u001b[0mutil\u001b[0m\u001b[1;33m.\u001b[0m\u001b[0mlazy_loader\u001b[0m \u001b[1;32mimport\u001b[0m \u001b[0mLazyLoader\u001b[0m \u001b[1;32mas\u001b[0m \u001b[0m_LazyLoader\u001b[0m\u001b[1;33m\u001b[0m\u001b[1;33m\u001b[0m\u001b[0m\n\u001b[0;32m     43\u001b[0m \u001b[1;33m\u001b[0m\u001b[0m\n",
      "\u001b[1;32m~\\AppData\\Roaming\\Python\\Python37\\site-packages\\tensorflow\\python\\__init__.py\u001b[0m in \u001b[0;36m<module>\u001b[1;34m\u001b[0m\n\u001b[0;32m     72\u001b[0m \u001b[1;33m\u001b[0m\u001b[0m\n\u001b[0;32m     73\u001b[0m \u001b[1;31m# Ops\u001b[0m\u001b[1;33m\u001b[0m\u001b[1;33m\u001b[0m\u001b[1;33m\u001b[0m\u001b[0m\n\u001b[1;32m---> 74\u001b[1;33m \u001b[1;32mfrom\u001b[0m \u001b[0mtensorflow\u001b[0m\u001b[1;33m.\u001b[0m\u001b[0mpython\u001b[0m\u001b[1;33m.\u001b[0m\u001b[0mops\u001b[0m\u001b[1;33m.\u001b[0m\u001b[0mstandard_ops\u001b[0m \u001b[1;32mimport\u001b[0m \u001b[1;33m*\u001b[0m\u001b[1;33m\u001b[0m\u001b[1;33m\u001b[0m\u001b[0m\n\u001b[0m\u001b[0;32m     75\u001b[0m \u001b[1;33m\u001b[0m\u001b[0m\n\u001b[0;32m     76\u001b[0m \u001b[1;31m# Namespaces\u001b[0m\u001b[1;33m\u001b[0m\u001b[1;33m\u001b[0m\u001b[1;33m\u001b[0m\u001b[0m\n",
      "\u001b[1;32m~\\AppData\\Roaming\\Python\\Python37\\site-packages\\tensorflow\\python\\ops\\standard_ops.py\u001b[0m in \u001b[0;36m<module>\u001b[1;34m\u001b[0m\n\u001b[0;32m     46\u001b[0m \u001b[1;32mfrom\u001b[0m \u001b[0mtensorflow\u001b[0m\u001b[1;33m.\u001b[0m\u001b[0mpython\u001b[0m\u001b[1;33m.\u001b[0m\u001b[0mops\u001b[0m\u001b[1;33m.\u001b[0m\u001b[0mcheck_ops\u001b[0m \u001b[1;32mimport\u001b[0m \u001b[1;33m*\u001b[0m\u001b[1;33m\u001b[0m\u001b[1;33m\u001b[0m\u001b[0m\n\u001b[0;32m     47\u001b[0m \u001b[1;32mfrom\u001b[0m \u001b[0mtensorflow\u001b[0m\u001b[1;33m.\u001b[0m\u001b[0mpython\u001b[0m\u001b[1;33m.\u001b[0m\u001b[0mops\u001b[0m\u001b[1;33m.\u001b[0m\u001b[0mclip_ops\u001b[0m \u001b[1;32mimport\u001b[0m \u001b[1;33m*\u001b[0m\u001b[1;33m\u001b[0m\u001b[1;33m\u001b[0m\u001b[0m\n\u001b[1;32m---> 48\u001b[1;33m \u001b[1;32mfrom\u001b[0m \u001b[0mtensorflow\u001b[0m\u001b[1;33m.\u001b[0m\u001b[0mpython\u001b[0m\u001b[1;33m.\u001b[0m\u001b[0mops\u001b[0m\u001b[1;33m.\u001b[0m\u001b[0mspecial_math_ops\u001b[0m \u001b[1;32mimport\u001b[0m \u001b[1;33m*\u001b[0m\u001b[1;33m\u001b[0m\u001b[1;33m\u001b[0m\u001b[0m\n\u001b[0m\u001b[0;32m     49\u001b[0m \u001b[1;31m# TODO(vrv): Switch to import * once we're okay with exposing the module.\u001b[0m\u001b[1;33m\u001b[0m\u001b[1;33m\u001b[0m\u001b[1;33m\u001b[0m\u001b[0m\n\u001b[0;32m     50\u001b[0m \u001b[1;32mfrom\u001b[0m \u001b[0mtensorflow\u001b[0m\u001b[1;33m.\u001b[0m\u001b[0mpython\u001b[0m\u001b[1;33m.\u001b[0m\u001b[0mops\u001b[0m\u001b[1;33m.\u001b[0m\u001b[0mconfusion_matrix\u001b[0m \u001b[1;32mimport\u001b[0m \u001b[0mconfusion_matrix\u001b[0m\u001b[1;33m\u001b[0m\u001b[1;33m\u001b[0m\u001b[0m\n",
      "\u001b[1;32m~\\AppData\\Roaming\\Python\\Python37\\site-packages\\tensorflow\\python\\ops\\special_math_ops.py\u001b[0m in \u001b[0;36m<module>\u001b[1;34m\u001b[0m\n\u001b[0;32m     28\u001b[0m \u001b[1;33m\u001b[0m\u001b[0m\n\u001b[0;32m     29\u001b[0m \u001b[1;32mimport\u001b[0m \u001b[0mnumpy\u001b[0m \u001b[1;32mas\u001b[0m \u001b[0mnp\u001b[0m\u001b[1;33m\u001b[0m\u001b[1;33m\u001b[0m\u001b[0m\n\u001b[1;32m---> 30\u001b[1;33m \u001b[1;32mimport\u001b[0m \u001b[0mopt_einsum\u001b[0m\u001b[1;33m\u001b[0m\u001b[1;33m\u001b[0m\u001b[0m\n\u001b[0m\u001b[0;32m     31\u001b[0m \u001b[1;32mimport\u001b[0m \u001b[0msix\u001b[0m\u001b[1;33m\u001b[0m\u001b[1;33m\u001b[0m\u001b[0m\n\u001b[0;32m     32\u001b[0m \u001b[1;33m\u001b[0m\u001b[0m\n",
      "\u001b[1;31mModuleNotFoundError\u001b[0m: No module named 'opt_einsum'"
     ]
    }
   ],
   "source": [
    "#Neural network\n",
    "from keras.models import Sequential\n",
    "from keras.layers import Dense, Dropout\n",
    "from keras import regularizers\n",
    "\n",
    "from keras.optimizers import SGD\n",
    "from keras.optimizers import Adam\n",
    "\n",
    "model_nn = Sequential()\n",
    "model_nn.add(Dense(300, input_dim=X_train.shape[1], activation='relu', kernel_regularizer=regularizers.l1(0.0001)))\n",
    "\n",
    "model_nn.add(Dense(300, activation='relu', kernel_regularizer=regularizers.l1(0.0001)))\n",
    "\n",
    "model_nn.add(Dense(1, activation='sigmoid'))\n",
    "\n",
    "model_nn.compile(loss='binary_crossentropy', optimizer=Adam(lr=0.00001), metrics=['accuracy'])"
   ]
  },
  {
   "cell_type": "code",
   "execution_count": 109,
   "metadata": {
    "scrolled": false
   },
   "outputs": [
    {
     "name": "stdout",
     "output_type": "stream",
     "text": [
      "Epoch 1/500\n",
      "5100/5100 [==============================] - 7s 1ms/step - loss: 19.6711 - accuracy: 0.4457\n",
      "Epoch 2/500\n",
      "5100/5100 [==============================] - 4s 791us/step - loss: 18.0249 - accuracy: 0.5167\n",
      "Epoch 3/500\n",
      "5100/5100 [==============================] - 4s 818us/step - loss: 16.4586 - accuracy: 0.5678\n",
      "Epoch 4/500\n",
      "5100/5100 [==============================] - 4s 813us/step - loss: 14.9721 - accuracy: 0.5722\n",
      "Epoch 5/500\n",
      "5100/5100 [==============================] - 4s 825us/step - loss: 13.5657 - accuracy: 0.5725 2s - loss: 13.9 - ETA: 1s - loss: 13.75\n",
      "Epoch 6/500\n",
      "5100/5100 [==============================] - 4s 843us/step - loss: 12.2397 - accuracy: 0.5725\n",
      "Epoch 7/500\n",
      "5100/5100 [==============================] - 4s 832us/step - loss: 10.9942 - accuracy: 0.5725 1\n",
      "Epoch 8/500\n",
      "5100/5100 [==============================] - 4s 841us/step - loss: 9.8291 - accuracy: 0.5725\n",
      "Epoch 9/500\n",
      "5100/5100 [==============================] - 4s 866us/step - loss: 8.7448 - accuracy: 0.5725\n",
      "Epoch 10/500\n",
      "5100/5100 [==============================] - 4s 847us/step - loss: 7.7417 - accuracy: 0.5725\n",
      "Epoch 11/500\n",
      "5100/5100 [==============================] - 4s 840us/step - loss: 6.8190 - accuracy: 0.5725\n",
      "Epoch 12/500\n",
      "5100/5100 [==============================] - 5s 884us/step - loss: 5.9768 - accuracy: 0.5725\n",
      "Epoch 13/500\n",
      "5100/5100 [==============================] - 4s 861us/step - loss: 5.2149 - accuracy: 0.5725\n",
      "Epoch 14/500\n",
      "5100/5100 [==============================] - 4s 839us/step - loss: 4.5332 - accuracy: 0.5725\n",
      "Epoch 15/500\n",
      "5100/5100 [==============================] - 4s 836us/step - loss: 3.9327 - accuracy: 0.5725\n",
      "Epoch 16/500\n",
      "5100/5100 [==============================] - 5s 887us/step - loss: 3.4127 - accuracy: 0.5725\n",
      "Epoch 17/500\n",
      "5100/5100 [==============================] - 5s 942us/step - loss: 2.9731 - accuracy: 0.5725\n",
      "Epoch 18/500\n",
      "5100/5100 [==============================] - 4s 856us/step - loss: 2.6142 - accuracy: 0.57250s - loss: 2.6281 - ac\n",
      "Epoch 19/500\n",
      "5100/5100 [==============================] - 4s 845us/step - loss: 2.3361 - accuracy: 0.5725\n",
      "Epoch 20/500\n",
      "5100/5100 [==============================] - 4s 848us/step - loss: 2.1384 - accuracy: 0.5725\n",
      "Epoch 21/500\n",
      "5100/5100 [==============================] - 4s 827us/step - loss: 2.0211 - accuracy: 0.5725\n",
      "Epoch 22/500\n",
      "5100/5100 [==============================] - 4s 837us/step - loss: 1.9653 - accuracy: 0.5725\n",
      "Epoch 23/500\n",
      "5100/5100 [==============================] - 4s 836us/step - loss: 1.9193 - accuracy: 0.5725\n",
      "Epoch 24/500\n",
      "5100/5100 [==============================] - 4s 835us/step - loss: 1.8742 - accuracy: 0.5725\n",
      "Epoch 25/500\n",
      "5100/5100 [==============================] - 4s 833us/step - loss: 1.8299 - accuracy: 0.5725\n",
      "Epoch 26/500\n",
      "5100/5100 [==============================] - 4s 827us/step - loss: 1.7864 - accuracy: 0.5725\n",
      "Epoch 27/500\n",
      "5100/5100 [==============================] - 4s 835us/step - loss: 1.7438 - accuracy: 0.5725\n",
      "Epoch 28/500\n",
      "5100/5100 [==============================] - 4s 832us/step - loss: 1.7020 - accuracy: 0.5725\n",
      "Epoch 29/500\n",
      "5100/5100 [==============================] - 4s 821us/step - loss: 1.6611 - accuracy: 0.5725\n",
      "Epoch 30/500\n",
      "5100/5100 [==============================] - 4s 820us/step - loss: 1.6210 - accuracy: 0.5725\n",
      "Epoch 31/500\n",
      "5100/5100 [==============================] - 4s 828us/step - loss: 1.5817 - accuracy: 0.5725\n",
      "Epoch 32/500\n",
      "5100/5100 [==============================] - 4s 849us/step - loss: 1.5433 - accuracy: 0.5725\n",
      "Epoch 33/500\n",
      "5100/5100 [==============================] - 4s 882us/step - loss: 1.5057 - accuracy: 0.5725\n",
      "Epoch 34/500\n",
      "5100/5100 [==============================] - 4s 830us/step - loss: 1.4689 - accuracy: 0.5725\n",
      "Epoch 35/500\n",
      "5100/5100 [==============================] - 4s 833us/step - loss: 1.4329 - accuracy: 0.5725\n",
      "Epoch 36/500\n",
      "5100/5100 [==============================] - 4s 820us/step - loss: 1.3978 - accuracy: 0.5725\n",
      "Epoch 37/500\n",
      "5100/5100 [==============================] - 4s 830us/step - loss: 1.3635 - accuracy: 0.5725\n",
      "Epoch 38/500\n",
      "5100/5100 [==============================] - 5s 924us/step - loss: 1.3299 - accuracy: 0.5725\n",
      "Epoch 39/500\n",
      "5100/5100 [==============================] - 4s 801us/step - loss: 1.2973 - accuracy: 0.5725\n",
      "Epoch 40/500\n",
      "5100/5100 [==============================] - 5s 1ms/step - loss: 1.2655 - accuracy: 0.5725\n",
      "Epoch 41/500\n",
      "5100/5100 [==============================] - 4s 826us/step - loss: 1.2345 - accuracy: 0.5725\n",
      "Epoch 42/500\n",
      "5100/5100 [==============================] - 5s 948us/step - loss: 1.2043 - accuracy: 0.5725\n",
      "Epoch 43/500\n",
      "5100/5100 [==============================] - 5s 963us/step - loss: 1.1750 - accuracy: 0.5725\n",
      "Epoch 44/500\n",
      "5100/5100 [==============================] - 4s 753us/step - loss: 1.1465 - accuracy: 0.5725\n",
      "Epoch 45/500\n",
      "5100/5100 [==============================] - 4s 761us/step - loss: 1.1189 - accuracy: 0.5725\n",
      "Epoch 46/500\n",
      "5100/5100 [==============================] - 4s 811us/step - loss: 1.0921 - accuracy: 0.5725\n",
      "Epoch 47/500\n",
      "5100/5100 [==============================] - 4s 838us/step - loss: 1.0662 - accuracy: 0.5725\n",
      "Epoch 48/500\n",
      "5100/5100 [==============================] - 4s 816us/step - loss: 1.0411 - accuracy: 0.5725\n",
      "Epoch 49/500\n",
      "5100/5100 [==============================] - 4s 812us/step - loss: 1.0169 - accuracy: 0.5725\n",
      "Epoch 50/500\n",
      "5100/5100 [==============================] - 4s 791us/step - loss: 0.9935 - accuracy: 0.5725\n",
      "Epoch 51/500\n",
      "5100/5100 [==============================] - 4s 826us/step - loss: 0.9710 - accuracy: 0.5725\n",
      "Epoch 52/500\n",
      "5100/5100 [==============================] - 4s 806us/step - loss: 0.9493 - accuracy: 0.5725\n",
      "Epoch 53/500\n",
      "5100/5100 [==============================] - 5s 1ms/step - loss: 0.9285 - accuracy: 0.5725\n",
      "Epoch 54/500\n",
      "5100/5100 [==============================] - 5s 912us/step - loss: 0.9086 - accuracy: 0.5725\n",
      "Epoch 55/500\n",
      "5100/5100 [==============================] - 5s 899us/step - loss: 0.8895 - accuracy: 0.5725\n",
      "Epoch 56/500\n",
      "5100/5100 [==============================] - 5s 1ms/step - loss: 0.8712 - accuracy: 0.5725: 1s -\n",
      "Epoch 57/500\n",
      "5100/5100 [==============================] - 5s 983us/step - loss: 0.8538 - accuracy: 0.5725\n",
      "Epoch 58/500\n",
      "5100/5100 [==============================] - 4s 870us/step - loss: 0.8372 - accuracy: 0.5725\n",
      "Epoch 59/500\n",
      "5100/5100 [==============================] - 5s 932us/step - loss: 0.8215 - accuracy: 0.5725\n",
      "Epoch 60/500\n",
      "5100/5100 [==============================] - 5s 889us/step - loss: 0.8067 - accuracy: 0.5725\n",
      "Epoch 61/500\n",
      "5100/5100 [==============================] - 4s 873us/step - loss: 0.7927 - accuracy: 0.5725\n",
      "Epoch 62/500\n",
      "5100/5100 [==============================] - 5s 1ms/step - loss: 0.7796 - accuracy: 0.5725\n",
      "Epoch 63/500\n",
      "5100/5100 [==============================] - 4s 823us/step - loss: 0.7674 - accuracy: 0.5725\n",
      "Epoch 64/500\n",
      "5100/5100 [==============================] - 4s 805us/step - loss: 0.7560 - accuracy: 0.5725\n",
      "Epoch 65/500\n",
      "5100/5100 [==============================] - 4s 869us/step - loss: 0.7455 - accuracy: 0.5725\n",
      "Epoch 66/500\n",
      "5100/5100 [==============================] - 4s 846us/step - loss: 0.7358 - accuracy: 0.5725\n",
      "Epoch 67/500\n",
      "5100/5100 [==============================] - 4s 802us/step - loss: 0.7269 - accuracy: 0.5725\n",
      "Epoch 68/500\n",
      "5100/5100 [==============================] - 4s 881us/step - loss: 0.7189 - accuracy: 0.5725\n",
      "Epoch 69/500\n",
      "5100/5100 [==============================] - 5s 919us/step - loss: 0.7117 - accuracy: 0.5725\n",
      "Epoch 70/500\n",
      "5100/5100 [==============================] - 4s 871us/step - loss: 0.7054 - accuracy: 0.57250s - l\n",
      "Epoch 71/500\n",
      "5100/5100 [==============================] - 4s 860us/step - loss: 0.6998 - accuracy: 0.5725\n",
      "Epoch 72/500\n",
      "5100/5100 [==============================] - 4s 865us/step - loss: 0.6951 - accuracy: 0.5725\n",
      "Epoch 73/500\n",
      "5100/5100 [==============================] - 4s 864us/step - loss: 0.6913 - accuracy: 0.5725\n",
      "Epoch 74/500\n",
      "5100/5100 [==============================] - 4s 858us/step - loss: 0.6882 - accuracy: 0.5725\n",
      "Epoch 75/500\n",
      "5100/5100 [==============================] - 4s 866us/step - loss: 0.6859 - accuracy: 0.5725\n",
      "Epoch 76/500\n",
      "5100/5100 [==============================] - 4s 869us/step - loss: 0.6845 - accuracy: 0.5725\n",
      "Epoch 77/500\n",
      "5100/5100 [==============================] - 4s 867us/step - loss: 0.6839 - accuracy: 0.5725\n",
      "Epoch 78/500\n",
      "5100/5100 [==============================] - 4s 827us/step - loss: 0.6839 - accuracy: 0.5725\n",
      "Epoch 79/500\n",
      "5100/5100 [==============================] - 4s 817us/step - loss: 0.6838 - accuracy: 0.5725\n",
      "Epoch 80/500\n",
      "5100/5100 [==============================] - 4s 827us/step - loss: 0.6838 - accuracy: 0.5725\n",
      "Epoch 81/500\n",
      "5100/5100 [==============================] - 4s 818us/step - loss: 0.6838 - accuracy: 0.5725\n",
      "Epoch 82/500\n",
      "5100/5100 [==============================] - 4s 832us/step - loss: 0.6838 - accuracy: 0.5725\n",
      "Epoch 83/500\n",
      "5100/5100 [==============================] - 4s 838us/step - loss: 0.6838 - accuracy: 0.5725\n",
      "Epoch 84/500\n",
      "5100/5100 [==============================] - 4s 842us/step - loss: 0.6838 - accuracy: 0.5725\n",
      "Epoch 85/500\n",
      "2592/5100 [==============>...............] - ETA: 2s - loss: 0.6827 - accuracy: 0.5764"
     ]
    },
    {
     "ename": "KeyboardInterrupt",
     "evalue": "",
     "output_type": "error",
     "traceback": [
      "\u001b[1;31m---------------------------------------------------------------------------\u001b[0m",
      "\u001b[1;31mKeyboardInterrupt\u001b[0m                         Traceback (most recent call last)",
      "\u001b[1;32m<ipython-input-109-858544c58241>\u001b[0m in \u001b[0;36m<module>\u001b[1;34m\u001b[0m\n\u001b[0;32m      1\u001b[0m \u001b[1;31m#Train model\u001b[0m\u001b[1;33m\u001b[0m\u001b[1;33m\u001b[0m\u001b[1;33m\u001b[0m\u001b[0m\n\u001b[1;32m----> 2\u001b[1;33m \u001b[0mtraining_process\u001b[0m \u001b[1;33m=\u001b[0m \u001b[0mmodel_nn\u001b[0m\u001b[1;33m.\u001b[0m\u001b[0mfit\u001b[0m\u001b[1;33m(\u001b[0m\u001b[0mX_train\u001b[0m\u001b[1;33m,\u001b[0m \u001b[0my_train\u001b[0m\u001b[1;33m,\u001b[0m \u001b[0mepochs\u001b[0m\u001b[1;33m=\u001b[0m\u001b[1;36m500\u001b[0m\u001b[1;33m)\u001b[0m\u001b[1;33m\u001b[0m\u001b[1;33m\u001b[0m\u001b[0m\n\u001b[0m",
      "\u001b[1;32m~\\anaconda3\\envs\\nlp_course\\lib\\site-packages\\keras\\engine\\training.py\u001b[0m in \u001b[0;36mfit\u001b[1;34m(self, x, y, batch_size, epochs, verbose, callbacks, validation_split, validation_data, shuffle, class_weight, sample_weight, initial_epoch, steps_per_epoch, validation_steps, validation_freq, max_queue_size, workers, use_multiprocessing, **kwargs)\u001b[0m\n\u001b[0;32m   1237\u001b[0m                                         \u001b[0msteps_per_epoch\u001b[0m\u001b[1;33m=\u001b[0m\u001b[0msteps_per_epoch\u001b[0m\u001b[1;33m,\u001b[0m\u001b[1;33m\u001b[0m\u001b[1;33m\u001b[0m\u001b[0m\n\u001b[0;32m   1238\u001b[0m                                         \u001b[0mvalidation_steps\u001b[0m\u001b[1;33m=\u001b[0m\u001b[0mvalidation_steps\u001b[0m\u001b[1;33m,\u001b[0m\u001b[1;33m\u001b[0m\u001b[1;33m\u001b[0m\u001b[0m\n\u001b[1;32m-> 1239\u001b[1;33m                                         validation_freq=validation_freq)\n\u001b[0m\u001b[0;32m   1240\u001b[0m \u001b[1;33m\u001b[0m\u001b[0m\n\u001b[0;32m   1241\u001b[0m     def evaluate(self,\n",
      "\u001b[1;32m~\\anaconda3\\envs\\nlp_course\\lib\\site-packages\\keras\\engine\\training_arrays.py\u001b[0m in \u001b[0;36mfit_loop\u001b[1;34m(model, fit_function, fit_inputs, out_labels, batch_size, epochs, verbose, callbacks, val_function, val_inputs, shuffle, initial_epoch, steps_per_epoch, validation_steps, validation_freq)\u001b[0m\n\u001b[0;32m    194\u001b[0m                     \u001b[0mins_batch\u001b[0m\u001b[1;33m[\u001b[0m\u001b[0mi\u001b[0m\u001b[1;33m]\u001b[0m \u001b[1;33m=\u001b[0m \u001b[0mins_batch\u001b[0m\u001b[1;33m[\u001b[0m\u001b[0mi\u001b[0m\u001b[1;33m]\u001b[0m\u001b[1;33m.\u001b[0m\u001b[0mtoarray\u001b[0m\u001b[1;33m(\u001b[0m\u001b[1;33m)\u001b[0m\u001b[1;33m\u001b[0m\u001b[1;33m\u001b[0m\u001b[0m\n\u001b[0;32m    195\u001b[0m \u001b[1;33m\u001b[0m\u001b[0m\n\u001b[1;32m--> 196\u001b[1;33m                 \u001b[0mouts\u001b[0m \u001b[1;33m=\u001b[0m \u001b[0mfit_function\u001b[0m\u001b[1;33m(\u001b[0m\u001b[0mins_batch\u001b[0m\u001b[1;33m)\u001b[0m\u001b[1;33m\u001b[0m\u001b[1;33m\u001b[0m\u001b[0m\n\u001b[0m\u001b[0;32m    197\u001b[0m                 \u001b[0mouts\u001b[0m \u001b[1;33m=\u001b[0m \u001b[0mto_list\u001b[0m\u001b[1;33m(\u001b[0m\u001b[0mouts\u001b[0m\u001b[1;33m)\u001b[0m\u001b[1;33m\u001b[0m\u001b[1;33m\u001b[0m\u001b[0m\n\u001b[0;32m    198\u001b[0m                 \u001b[1;32mfor\u001b[0m \u001b[0ml\u001b[0m\u001b[1;33m,\u001b[0m \u001b[0mo\u001b[0m \u001b[1;32min\u001b[0m \u001b[0mzip\u001b[0m\u001b[1;33m(\u001b[0m\u001b[0mout_labels\u001b[0m\u001b[1;33m,\u001b[0m \u001b[0mouts\u001b[0m\u001b[1;33m)\u001b[0m\u001b[1;33m:\u001b[0m\u001b[1;33m\u001b[0m\u001b[1;33m\u001b[0m\u001b[0m\n",
      "\u001b[1;32m~\\anaconda3\\envs\\nlp_course\\lib\\site-packages\\tensorflow\\python\\keras\\backend.py\u001b[0m in \u001b[0;36m__call__\u001b[1;34m(self, inputs)\u001b[0m\n\u001b[0;32m   3074\u001b[0m \u001b[1;33m\u001b[0m\u001b[0m\n\u001b[0;32m   3075\u001b[0m     fetched = self._callable_fn(*array_vals,\n\u001b[1;32m-> 3076\u001b[1;33m                                 run_metadata=self.run_metadata)\n\u001b[0m\u001b[0;32m   3077\u001b[0m     \u001b[0mself\u001b[0m\u001b[1;33m.\u001b[0m\u001b[0m_call_fetch_callbacks\u001b[0m\u001b[1;33m(\u001b[0m\u001b[0mfetched\u001b[0m\u001b[1;33m[\u001b[0m\u001b[1;33m-\u001b[0m\u001b[0mlen\u001b[0m\u001b[1;33m(\u001b[0m\u001b[0mself\u001b[0m\u001b[1;33m.\u001b[0m\u001b[0m_fetches\u001b[0m\u001b[1;33m)\u001b[0m\u001b[1;33m:\u001b[0m\u001b[1;33m]\u001b[0m\u001b[1;33m)\u001b[0m\u001b[1;33m\u001b[0m\u001b[1;33m\u001b[0m\u001b[0m\n\u001b[0;32m   3078\u001b[0m     return nest.pack_sequence_as(self._outputs_structure,\n",
      "\u001b[1;32m~\\anaconda3\\envs\\nlp_course\\lib\\site-packages\\tensorflow\\python\\client\\session.py\u001b[0m in \u001b[0;36m__call__\u001b[1;34m(self, *args, **kwargs)\u001b[0m\n\u001b[0;32m   1437\u001b[0m           ret = tf_session.TF_SessionRunCallable(\n\u001b[0;32m   1438\u001b[0m               \u001b[0mself\u001b[0m\u001b[1;33m.\u001b[0m\u001b[0m_session\u001b[0m\u001b[1;33m.\u001b[0m\u001b[0m_session\u001b[0m\u001b[1;33m,\u001b[0m \u001b[0mself\u001b[0m\u001b[1;33m.\u001b[0m\u001b[0m_handle\u001b[0m\u001b[1;33m,\u001b[0m \u001b[0margs\u001b[0m\u001b[1;33m,\u001b[0m \u001b[0mstatus\u001b[0m\u001b[1;33m,\u001b[0m\u001b[1;33m\u001b[0m\u001b[1;33m\u001b[0m\u001b[0m\n\u001b[1;32m-> 1439\u001b[1;33m               run_metadata_ptr)\n\u001b[0m\u001b[0;32m   1440\u001b[0m         \u001b[1;32mif\u001b[0m \u001b[0mrun_metadata\u001b[0m\u001b[1;33m:\u001b[0m\u001b[1;33m\u001b[0m\u001b[1;33m\u001b[0m\u001b[0m\n\u001b[0;32m   1441\u001b[0m           \u001b[0mproto_data\u001b[0m \u001b[1;33m=\u001b[0m \u001b[0mtf_session\u001b[0m\u001b[1;33m.\u001b[0m\u001b[0mTF_GetBuffer\u001b[0m\u001b[1;33m(\u001b[0m\u001b[0mrun_metadata_ptr\u001b[0m\u001b[1;33m)\u001b[0m\u001b[1;33m\u001b[0m\u001b[1;33m\u001b[0m\u001b[0m\n",
      "\u001b[1;31mKeyboardInterrupt\u001b[0m: "
     ]
    }
   ],
   "source": [
    "#Train model\n",
    "training_process = model_nn.fit(X_train, y_train, epochs=500)"
   ]
  },
  {
   "cell_type": "code",
   "execution_count": 110,
   "metadata": {},
   "outputs": [
    {
     "data": {
      "image/png": "[encoded data removed]",
      "text/plain": [
       "<Figure size 432x288 with 1 Axes>"
      ]
     },
     "metadata": {
      "needs_background": "light"
     },
     "output_type": "display_data"
    },
    {
     "data": {
      "image/png": "[encoded data removed]",
      "text/plain": [
       "<Figure size 432x288 with 1 Axes>"
      ]
     },
     "metadata": {
      "needs_background": "light"
     },
     "output_type": "display_data"
    }
   ],
   "source": [
    "import matplotlib.pyplot as plt\n",
    "# summarize history for accuracy\n",
    "plt.plot(training_process.history['accuracy'])\n",
    "plt.title('model accuracy')\n",
    "plt.ylabel('accuracy')\n",
    "plt.xlabel('epoch')\n",
    "plt.show()\n",
    "# summarize history for loss\n",
    "plt.plot(training_process.history['loss'])\n",
    "plt.title('model loss')\n",
    "plt.ylabel('loss')\n",
    "plt.xlabel('epoch')\n",
    "\n",
    "plt.show()"
   ]
  },
  {
   "cell_type": "code",
   "execution_count": 111,
   "metadata": {},
   "outputs": [],
   "source": [
    "y_test_predicted = model_nn.predict(X_test)\n",
    "y_test_predicted = np.where(y_test_predicted >= 0.5, 1, y_test_predicted)\n",
    "y_test_predicted = np.where(y_test_predicted < 0.5, 0, y_test_predicted)"
   ]
  },
  {
   "cell_type": "code",
   "execution_count": 112,
   "metadata": {},
   "outputs": [
    {
     "name": "stdout",
     "output_type": "stream",
     "text": [
      "Accuracy is: 56.585754078790295%\n"
     ]
    }
   ],
   "source": [
    "accuracy = accuracy_score(y_test, y_test_predicted)\n",
    "print('Accuracy is: '+ str(100*accuracy)+'%')"
   ]
  },
  {
   "cell_type": "markdown",
   "metadata": {},
   "source": [
    "## RNN network"
   ]
  },
  {
   "cell_type": "code",
   "execution_count": 64,
   "metadata": {},
   "outputs": [
    {
     "name": "stdout",
     "output_type": "stream",
     "text": [
      "Found 17241 unique tokens.\n"
     ]
    }
   ],
   "source": [
    "# Fit keras tokenizer\n",
    "from keras.preprocessing.text import Tokenizer\n",
    "from keras.preprocessing.sequence import pad_sequences\n",
    "\n",
    "# The maximum number of words to be used. (most frequent)\n",
    "MAX_NB_WORDS = 10000\n",
    "# Max number of words in each complaint.\n",
    "MAX_SEQUENCE_LENGTH = 40\n",
    "# This is fixed.\n",
    "EMBEDDING_DIM = 50\n",
    "\n",
    "tokenizer = Tokenizer(num_words=MAX_NB_WORDS, lower=True)\n",
    "tokenizer.fit_on_texts(train_dataset['text'].values)\n",
    "\n",
    "word_index = tokenizer.word_index\n",
    "print('Found %s unique tokens.' % len(word_index))"
   ]
  },
  {
   "cell_type": "code",
   "execution_count": 65,
   "metadata": {},
   "outputs": [
    {
     "name": "stdout",
     "output_type": "stream",
     "text": [
      "Shape of data tensor: (7613, 40)\n"
     ]
    }
   ],
   "source": [
    "#X variable\n",
    "X_train_dataset = tokenizer.texts_to_sequences(train_dataset['text'].values)\n",
    "X_predict_dataset = tokenizer.texts_to_sequences(predict_dataset['text'].values)\n",
    "\n",
    "#The longest tweet has 31 tokens\n",
    "X_train_dataset = pad_sequences(X_train_dataset, maxlen=MAX_SEQUENCE_LENGTH)\n",
    "X_predict_dataset = pad_sequences(X_predict_dataset, maxlen=MAX_SEQUENCE_LENGTH)\n",
    "print('Shape of data tensor:', X_train_dataset.shape)"
   ]
  },
  {
   "cell_type": "code",
   "execution_count": 66,
   "metadata": {},
   "outputs": [],
   "source": [
    "#y variable\n",
    "y_train_dataset = np.array(train_dataset['target'])"
   ]
  },
  {
   "cell_type": "code",
   "execution_count": 67,
   "metadata": {},
   "outputs": [],
   "source": [
    "#Split train and test data\n",
    "from sklearn.model_selection import train_test_split\n",
    "X_train, X_test, y_train, y_test = train_test_split(X_train_dataset, y_train_dataset, test_size=0.33, random_state=42)"
   ]
  },
  {
   "cell_type": "code",
   "execution_count": 68,
   "metadata": {},
   "outputs": [
    {
     "data": {
      "text/plain": [
       "(7613, 40)"
      ]
     },
     "execution_count": 68,
     "metadata": {},
     "output_type": "execute_result"
    }
   ],
   "source": [
    "X_train_dataset.shape"
   ]
  },
  {
   "cell_type": "code",
   "execution_count": 82,
   "metadata": {
    "scrolled": false
   },
   "outputs": [
    {
     "name": "stdout",
     "output_type": "stream",
     "text": [
      "Model: \"sequential_28\"\n",
      "_________________________________________________________________\n",
      "Layer (type)                 Output Shape              Param #   \n",
      "=================================================================\n",
      "embedding_28 (Embedding)     (None, 40, 50)            500000    \n",
      "_________________________________________________________________\n",
      "spatial_dropout1d_28 (Spatia (None, 40, 50)            0         \n",
      "_________________________________________________________________\n",
      "lstm_28 (LSTM)               (None, 50)                20200     \n",
      "_________________________________________________________________\n",
      "dense_52 (Dense)             (None, 40)                2040      \n",
      "_________________________________________________________________\n",
      "dense_53 (Dense)             (None, 1)                 41        \n",
      "=================================================================\n",
      "Total params: 522,281\n",
      "Trainable params: 522,281\n",
      "Non-trainable params: 0\n",
      "_________________________________________________________________\n"
     ]
    }
   ],
   "source": [
    "#Model specification\n",
    "from keras import Sequential\n",
    "from keras.layers import Dense, SpatialDropout1D, LSTM, Embedding\n",
    "from keras.optimizers import Adam\n",
    "from keras import regularizers\n",
    "\n",
    "model_rnn = Sequential()\n",
    "model_rnn.add(Embedding(MAX_NB_WORDS, EMBEDDING_DIM, input_length=X_train_dataset.shape[1]))\n",
    "model_rnn.add(SpatialDropout1D(0.3))\n",
    "model_rnn.add(LSTM(EMBEDDING_DIM, dropout=0.3, recurrent_dropout=0.3))\n",
    "model_rnn.add(Dense(40, activation='sigmoid', kernel_regularizer=regularizers.l2(0.01)))\n",
    "model_rnn.add(Dense(1, activation='sigmoid' , kernel_regularizer=regularizers.l2(0.01)))\n",
    "model_rnn.compile(loss='binary_crossentropy', optimizer=Adam(lr=0.0001), metrics=['accuracy'])\n",
    "model_rnn.summary()"
   ]
  },
  {
   "cell_type": "code",
   "execution_count": 83,
   "metadata": {
    "scrolled": true
   },
   "outputs": [
    {
     "name": "stdout",
     "output_type": "stream",
     "text": [
      "Train on 5100 samples, validate on 2513 samples\n",
      "Epoch 1/100\n",
      "5100/5100 [==============================] - 4s 799us/step - loss: 1.1473 - accuracy: 0.5692 - val_loss: 1.1415 - val_accuracy: 0.5726\n",
      "Epoch 2/100\n",
      "5100/5100 [==============================] - 2s 442us/step - loss: 1.1369 - accuracy: 0.5692 - val_loss: 1.1312 - val_accuracy: 0.5726\n",
      "Epoch 3/100\n",
      "5100/5100 [==============================] - 2s 437us/step - loss: 1.1270 - accuracy: 0.5692 - val_loss: 1.1215 - val_accuracy: 0.5726\n",
      "Epoch 4/100\n",
      "5100/5100 [==============================] - 2s 441us/step - loss: 1.1175 - accuracy: 0.5692 - val_loss: 1.1123 - val_accuracy: 0.5726\n",
      "Epoch 5/100\n",
      "5100/5100 [==============================] - 3s 518us/step - loss: 1.1084 - accuracy: 0.5692 - val_loss: 1.1034 - val_accuracy: 0.5726\n",
      "Epoch 6/100\n",
      "5100/5100 [==============================] - 2s 446us/step - loss: 1.0998 - accuracy: 0.5692 - val_loss: 1.0947 - val_accuracy: 0.5726\n",
      "Epoch 7/100\n",
      "5100/5100 [==============================] - 3s 492us/step - loss: 1.0912 - accuracy: 0.5692 - val_loss: 1.0863 - val_accuracy: 0.5726\n",
      "Epoch 8/100\n",
      "5100/5100 [==============================] - 2s 468us/step - loss: 1.0827 - accuracy: 0.5692 - val_loss: 1.0780 - val_accuracy: 0.5726\n",
      "Epoch 9/100\n",
      "5100/5100 [==============================] - 3s 513us/step - loss: 1.0744 - accuracy: 0.5692 - val_loss: 1.0697 - val_accuracy: 0.5726\n",
      "Epoch 10/100\n",
      "5100/5100 [==============================] - 3s 494us/step - loss: 1.0658 - accuracy: 0.5692 - val_loss: 1.0614 - val_accuracy: 0.5726\n",
      "Epoch 11/100\n",
      "5100/5100 [==============================] - 3s 496us/step - loss: 1.0575 - accuracy: 0.5692 - val_loss: 1.0531 - val_accuracy: 0.5726\n",
      "Epoch 12/100\n",
      "5100/5100 [==============================] - 2s 469us/step - loss: 1.0493 - accuracy: 0.5692 - val_loss: 1.0447 - val_accuracy: 0.5726\n",
      "Epoch 13/100\n",
      "5100/5100 [==============================] - 2s 474us/step - loss: 1.0401 - accuracy: 0.5692 - val_loss: 1.0362 - val_accuracy: 0.5726\n",
      "Epoch 14/100\n",
      "5100/5100 [==============================] - 2s 479us/step - loss: 1.0318 - accuracy: 0.5692 - val_loss: 1.0277 - val_accuracy: 0.5726\n",
      "Epoch 15/100\n",
      "5100/5100 [==============================] - 2s 486us/step - loss: 1.0232 - accuracy: 0.5692 - val_loss: 1.0188 - val_accuracy: 0.5726\n",
      "Epoch 16/100\n",
      "5100/5100 [==============================] - 3s 504us/step - loss: 1.0122 - accuracy: 0.5692 - val_loss: 1.0085 - val_accuracy: 0.5726\n",
      "Epoch 17/100\n",
      "5100/5100 [==============================] - 2s 476us/step - loss: 1.0032 - accuracy: 0.5692 - val_loss: 0.9983 - val_accuracy: 0.5726\n",
      "Epoch 18/100\n",
      "5100/5100 [==============================] - 2s 485us/step - loss: 0.9920 - accuracy: 0.5692 - val_loss: 0.9879 - val_accuracy: 0.5726\n",
      "Epoch 19/100\n",
      "5100/5100 [==============================] - 3s 496us/step - loss: 0.9810 - accuracy: 0.5694 - val_loss: 0.9766 - val_accuracy: 0.5726\n",
      "Epoch 20/100\n",
      "5100/5100 [==============================] - 2s 480us/step - loss: 0.9684 - accuracy: 0.5745 - val_loss: 0.9643 - val_accuracy: 0.5786\n",
      "Epoch 21/100\n",
      "5100/5100 [==============================] - 3s 526us/step - loss: 0.9562 - accuracy: 0.5922 - val_loss: 0.9498 - val_accuracy: 0.6053\n",
      "Epoch 22/100\n",
      "5100/5100 [==============================] - 3s 632us/step - loss: 0.9445 - accuracy: 0.6249 - val_loss: 0.9374 - val_accuracy: 0.6319\n",
      "Epoch 23/100\n",
      "5100/5100 [==============================] - 3s 582us/step - loss: 0.9286 - accuracy: 0.6606 - val_loss: 0.9226 - val_accuracy: 0.6634\n",
      "Epoch 24/100\n",
      "5100/5100 [==============================] - 3s 516us/step - loss: 0.9132 - accuracy: 0.6992 - val_loss: 0.9092 - val_accuracy: 0.7043\n",
      "Epoch 25/100\n",
      "5100/5100 [==============================] - 3s 527us/step - loss: 0.9002 - accuracy: 0.7382 - val_loss: 0.8958 - val_accuracy: 0.7409\n",
      "Epoch 26/100\n",
      "5100/5100 [==============================] - 3s 530us/step - loss: 0.8850 - accuracy: 0.7694 - val_loss: 0.8810 - val_accuracy: 0.7509\n",
      "Epoch 27/100\n",
      "5100/5100 [==============================] - 3s 502us/step - loss: 0.8714 - accuracy: 0.7753 - val_loss: 0.8700 - val_accuracy: 0.7676\n",
      "Epoch 28/100\n",
      "5100/5100 [==============================] - 3s 549us/step - loss: 0.8578 - accuracy: 0.7988 - val_loss: 0.8585 - val_accuracy: 0.7791\n",
      "Epoch 29/100\n",
      "5100/5100 [==============================] - 3s 546us/step - loss: 0.8429 - accuracy: 0.7931 - val_loss: 0.8456 - val_accuracy: 0.7791\n",
      "Epoch 30/100\n",
      "5100/5100 [==============================] - 3s 569us/step - loss: 0.8316 - accuracy: 0.8098 - val_loss: 0.8405 - val_accuracy: 0.7923\n",
      "Epoch 31/100\n",
      "5100/5100 [==============================] - 3s 568us/step - loss: 0.8179 - accuracy: 0.8175 - val_loss: 0.8251 - val_accuracy: 0.7919\n",
      "Epoch 32/100\n",
      "5100/5100 [==============================] - 3s 535us/step - loss: 0.8071 - accuracy: 0.8218 - val_loss: 0.8187 - val_accuracy: 0.7994\n",
      "Epoch 33/100\n",
      "5100/5100 [==============================] - 3s 551us/step - loss: 0.7943 - accuracy: 0.8273 - val_loss: 0.8048 - val_accuracy: 0.7915\n",
      "Epoch 34/100\n",
      "5100/5100 [==============================] - 3s 561us/step - loss: 0.7811 - accuracy: 0.8284 - val_loss: 0.7976 - val_accuracy: 0.7982\n",
      "Epoch 35/100\n",
      "5100/5100 [==============================] - 3s 537us/step - loss: 0.7691 - accuracy: 0.8302 - val_loss: 0.7881 - val_accuracy: 0.7986\n",
      "Epoch 36/100\n",
      "5100/5100 [==============================] - 3s 551us/step - loss: 0.7573 - accuracy: 0.8353 - val_loss: 0.7823 - val_accuracy: 0.8054\n",
      "Epoch 37/100\n",
      "5100/5100 [==============================] - 3s 541us/step - loss: 0.7462 - accuracy: 0.8437 - val_loss: 0.7720 - val_accuracy: 0.8034\n",
      "Epoch 38/100\n",
      "5100/5100 [==============================] - 3s 551us/step - loss: 0.7343 - accuracy: 0.8496 - val_loss: 0.7636 - val_accuracy: 0.8042\n",
      "Epoch 39/100\n",
      "5100/5100 [==============================] - 3s 583us/step - loss: 0.7219 - accuracy: 0.8469 - val_loss: 0.7568 - val_accuracy: 0.8070\n",
      "Epoch 40/100\n",
      "5100/5100 [==============================] - 3s 549us/step - loss: 0.7099 - accuracy: 0.8527 - val_loss: 0.7479 - val_accuracy: 0.8038\n",
      "Epoch 41/100\n",
      "5100/5100 [==============================] - 3s 559us/step - loss: 0.6983 - accuracy: 0.8520 - val_loss: 0.7420 - val_accuracy: 0.8054\n",
      "Epoch 42/100\n",
      "5100/5100 [==============================] - 4s 709us/step - loss: 0.6889 - accuracy: 0.8561 - val_loss: 0.7357 - val_accuracy: 0.8050\n",
      "Epoch 43/100\n",
      "5100/5100 [==============================] - 4s 710us/step - loss: 0.6791 - accuracy: 0.8578 - val_loss: 0.7300 - val_accuracy: 0.8046\n",
      "Epoch 44/100\n",
      "5100/5100 [==============================] - 3s 615us/step - loss: 0.6683 - accuracy: 0.8702 - val_loss: 0.7229 - val_accuracy: 0.8066\n",
      "Epoch 45/100\n",
      "5100/5100 [==============================] - 3s 634us/step - loss: 0.6610 - accuracy: 0.8600 - val_loss: 0.7162 - val_accuracy: 0.8066\n",
      "Epoch 46/100\n",
      "5100/5100 [==============================] - 3s 612us/step - loss: 0.6479 - accuracy: 0.8710 - val_loss: 0.7109 - val_accuracy: 0.8058\n",
      "Epoch 47/100\n",
      "5100/5100 [==============================] - 3s 612us/step - loss: 0.6404 - accuracy: 0.8724 - val_loss: 0.7074 - val_accuracy: 0.8046\n",
      "Epoch 48/100\n",
      "5100/5100 [==============================] - 3s 645us/step - loss: 0.6253 - accuracy: 0.8806 - val_loss: 0.7004 - val_accuracy: 0.8030\n",
      "Epoch 49/100\n",
      "5100/5100 [==============================] - 3s 604us/step - loss: 0.6202 - accuracy: 0.8761 - val_loss: 0.6982 - val_accuracy: 0.8050\n",
      "Epoch 50/100\n",
      "5100/5100 [==============================] - 3s 595us/step - loss: 0.6098 - accuracy: 0.8820 - val_loss: 0.6912 - val_accuracy: 0.8058\n",
      "Epoch 51/100\n",
      "5100/5100 [==============================] - 3s 603us/step - loss: 0.5996 - accuracy: 0.8841 - val_loss: 0.6888 - val_accuracy: 0.8034\n",
      "Epoch 52/100\n",
      "5100/5100 [==============================] - 3s 564us/step - loss: 0.5926 - accuracy: 0.8822 - val_loss: 0.6844 - val_accuracy: 0.8030\n",
      "Epoch 53/100\n",
      "5100/5100 [==============================] - 3s 642us/step - loss: 0.5805 - accuracy: 0.8912 - val_loss: 0.6798 - val_accuracy: 0.8006\n",
      "Epoch 54/100\n",
      "5100/5100 [==============================] - 3s 609us/step - loss: 0.5763 - accuracy: 0.8892 - val_loss: 0.6767 - val_accuracy: 0.8038\n",
      "Epoch 55/100\n",
      "4800/5100 [===========================>..] - ETA: 0s - loss: 0.5727 - accuracy: 0.8906"
     ]
    },
    {
     "ename": "KeyboardInterrupt",
     "evalue": "",
     "output_type": "error",
     "traceback": [
      "\u001b[1;31m---------------------------------------------------------------------------\u001b[0m",
      "\u001b[1;31mKeyboardInterrupt\u001b[0m                         Traceback (most recent call last)",
      "\u001b[1;32m<ipython-input-83-a5f3dba20236>\u001b[0m in \u001b[0;36m<module>\u001b[1;34m\u001b[0m\n\u001b[0;32m      3\u001b[0m \u001b[0mbatch_size\u001b[0m \u001b[1;33m=\u001b[0m \u001b[1;36m300\u001b[0m\u001b[1;33m\u001b[0m\u001b[1;33m\u001b[0m\u001b[0m\n\u001b[0;32m      4\u001b[0m \u001b[1;33m\u001b[0m\u001b[0m\n\u001b[1;32m----> 5\u001b[1;33m \u001b[0mhistory\u001b[0m \u001b[1;33m=\u001b[0m \u001b[0mmodel_rnn\u001b[0m\u001b[1;33m.\u001b[0m\u001b[0mfit\u001b[0m\u001b[1;33m(\u001b[0m\u001b[0mX_train\u001b[0m\u001b[1;33m,\u001b[0m \u001b[0my_train\u001b[0m\u001b[1;33m,\u001b[0m \u001b[0mepochs\u001b[0m\u001b[1;33m=\u001b[0m\u001b[0mepochs\u001b[0m\u001b[1;33m,\u001b[0m \u001b[0mbatch_size\u001b[0m\u001b[1;33m=\u001b[0m\u001b[0mbatch_size\u001b[0m\u001b[1;33m,\u001b[0m \u001b[0mvalidation_data\u001b[0m\u001b[1;33m=\u001b[0m\u001b[1;33m(\u001b[0m\u001b[0mX_test\u001b[0m\u001b[1;33m,\u001b[0m \u001b[0my_test\u001b[0m\u001b[1;33m)\u001b[0m\u001b[1;33m)\u001b[0m\u001b[1;33m\u001b[0m\u001b[1;33m\u001b[0m\u001b[0m\n\u001b[0m",
      "\u001b[1;32m~\\anaconda3\\envs\\nlp_course\\lib\\site-packages\\keras\\engine\\training.py\u001b[0m in \u001b[0;36mfit\u001b[1;34m(self, x, y, batch_size, epochs, verbose, callbacks, validation_split, validation_data, shuffle, class_weight, sample_weight, initial_epoch, steps_per_epoch, validation_steps, validation_freq, max_queue_size, workers, use_multiprocessing, **kwargs)\u001b[0m\n\u001b[0;32m   1237\u001b[0m                                         \u001b[0msteps_per_epoch\u001b[0m\u001b[1;33m=\u001b[0m\u001b[0msteps_per_epoch\u001b[0m\u001b[1;33m,\u001b[0m\u001b[1;33m\u001b[0m\u001b[1;33m\u001b[0m\u001b[0m\n\u001b[0;32m   1238\u001b[0m                                         \u001b[0mvalidation_steps\u001b[0m\u001b[1;33m=\u001b[0m\u001b[0mvalidation_steps\u001b[0m\u001b[1;33m,\u001b[0m\u001b[1;33m\u001b[0m\u001b[1;33m\u001b[0m\u001b[0m\n\u001b[1;32m-> 1239\u001b[1;33m                                         validation_freq=validation_freq)\n\u001b[0m\u001b[0;32m   1240\u001b[0m \u001b[1;33m\u001b[0m\u001b[0m\n\u001b[0;32m   1241\u001b[0m     def evaluate(self,\n",
      "\u001b[1;32m~\\anaconda3\\envs\\nlp_course\\lib\\site-packages\\keras\\engine\\training_arrays.py\u001b[0m in \u001b[0;36mfit_loop\u001b[1;34m(model, fit_function, fit_inputs, out_labels, batch_size, epochs, verbose, callbacks, val_function, val_inputs, shuffle, initial_epoch, steps_per_epoch, validation_steps, validation_freq)\u001b[0m\n\u001b[0;32m    208\u001b[0m                                          \u001b[0mbatch_size\u001b[0m\u001b[1;33m=\u001b[0m\u001b[0mbatch_size\u001b[0m\u001b[1;33m,\u001b[0m\u001b[1;33m\u001b[0m\u001b[1;33m\u001b[0m\u001b[0m\n\u001b[0;32m    209\u001b[0m                                          \u001b[0mcallbacks\u001b[0m\u001b[1;33m=\u001b[0m\u001b[0mcallbacks\u001b[0m\u001b[1;33m,\u001b[0m\u001b[1;33m\u001b[0m\u001b[1;33m\u001b[0m\u001b[0m\n\u001b[1;32m--> 210\u001b[1;33m                                          verbose=0)\n\u001b[0m\u001b[0;32m    211\u001b[0m                     \u001b[0mval_outs\u001b[0m \u001b[1;33m=\u001b[0m \u001b[0mto_list\u001b[0m\u001b[1;33m(\u001b[0m\u001b[0mval_outs\u001b[0m\u001b[1;33m)\u001b[0m\u001b[1;33m\u001b[0m\u001b[1;33m\u001b[0m\u001b[0m\n\u001b[0;32m    212\u001b[0m                     \u001b[1;31m# Same labels assumed.\u001b[0m\u001b[1;33m\u001b[0m\u001b[1;33m\u001b[0m\u001b[1;33m\u001b[0m\u001b[0m\n",
      "\u001b[1;32m~\\anaconda3\\envs\\nlp_course\\lib\\site-packages\\keras\\engine\\training_arrays.py\u001b[0m in \u001b[0;36mtest_loop\u001b[1;34m(model, f, ins, batch_size, verbose, steps, callbacks)\u001b[0m\n\u001b[0;32m    447\u001b[0m             \u001b[0mbatch_logs\u001b[0m \u001b[1;33m=\u001b[0m \u001b[1;33m{\u001b[0m\u001b[1;34m'batch'\u001b[0m\u001b[1;33m:\u001b[0m \u001b[0mbatch_index\u001b[0m\u001b[1;33m,\u001b[0m \u001b[1;34m'size'\u001b[0m\u001b[1;33m:\u001b[0m \u001b[0mlen\u001b[0m\u001b[1;33m(\u001b[0m\u001b[0mbatch_ids\u001b[0m\u001b[1;33m)\u001b[0m\u001b[1;33m}\u001b[0m\u001b[1;33m\u001b[0m\u001b[1;33m\u001b[0m\u001b[0m\n\u001b[0;32m    448\u001b[0m             \u001b[0mcallbacks\u001b[0m\u001b[1;33m.\u001b[0m\u001b[0m_call_batch_hook\u001b[0m\u001b[1;33m(\u001b[0m\u001b[1;34m'test'\u001b[0m\u001b[1;33m,\u001b[0m \u001b[1;34m'begin'\u001b[0m\u001b[1;33m,\u001b[0m \u001b[0mbatch_index\u001b[0m\u001b[1;33m,\u001b[0m \u001b[0mbatch_logs\u001b[0m\u001b[1;33m)\u001b[0m\u001b[1;33m\u001b[0m\u001b[1;33m\u001b[0m\u001b[0m\n\u001b[1;32m--> 449\u001b[1;33m             \u001b[0mbatch_outs\u001b[0m \u001b[1;33m=\u001b[0m \u001b[0mf\u001b[0m\u001b[1;33m(\u001b[0m\u001b[0mins_batch\u001b[0m\u001b[1;33m)\u001b[0m\u001b[1;33m\u001b[0m\u001b[1;33m\u001b[0m\u001b[0m\n\u001b[0m\u001b[0;32m    450\u001b[0m             \u001b[1;32mif\u001b[0m \u001b[0misinstance\u001b[0m\u001b[1;33m(\u001b[0m\u001b[0mbatch_outs\u001b[0m\u001b[1;33m,\u001b[0m \u001b[0mlist\u001b[0m\u001b[1;33m)\u001b[0m\u001b[1;33m:\u001b[0m\u001b[1;33m\u001b[0m\u001b[1;33m\u001b[0m\u001b[0m\n\u001b[0;32m    451\u001b[0m                 \u001b[1;32mif\u001b[0m \u001b[0mbatch_index\u001b[0m \u001b[1;33m==\u001b[0m \u001b[1;36m0\u001b[0m\u001b[1;33m:\u001b[0m\u001b[1;33m\u001b[0m\u001b[1;33m\u001b[0m\u001b[0m\n",
      "\u001b[1;32m~\\AppData\\Roaming\\Python\\Python37\\site-packages\\tensorflow\\python\\keras\\backend.py\u001b[0m in \u001b[0;36m__call__\u001b[1;34m(self, inputs)\u001b[0m\n\u001b[0;32m   3790\u001b[0m         \u001b[0mvalue\u001b[0m \u001b[1;33m=\u001b[0m \u001b[0mmath_ops\u001b[0m\u001b[1;33m.\u001b[0m\u001b[0mcast\u001b[0m\u001b[1;33m(\u001b[0m\u001b[0mvalue\u001b[0m\u001b[1;33m,\u001b[0m \u001b[0mtensor\u001b[0m\u001b[1;33m.\u001b[0m\u001b[0mdtype\u001b[0m\u001b[1;33m)\u001b[0m\u001b[1;33m\u001b[0m\u001b[1;33m\u001b[0m\u001b[0m\n\u001b[0;32m   3791\u001b[0m       \u001b[0mconverted_inputs\u001b[0m\u001b[1;33m.\u001b[0m\u001b[0mappend\u001b[0m\u001b[1;33m(\u001b[0m\u001b[0mvalue\u001b[0m\u001b[1;33m)\u001b[0m\u001b[1;33m\u001b[0m\u001b[1;33m\u001b[0m\u001b[0m\n\u001b[1;32m-> 3792\u001b[1;33m     \u001b[0moutputs\u001b[0m \u001b[1;33m=\u001b[0m \u001b[0mself\u001b[0m\u001b[1;33m.\u001b[0m\u001b[0m_graph_fn\u001b[0m\u001b[1;33m(\u001b[0m\u001b[1;33m*\u001b[0m\u001b[0mconverted_inputs\u001b[0m\u001b[1;33m)\u001b[0m\u001b[1;33m\u001b[0m\u001b[1;33m\u001b[0m\u001b[0m\n\u001b[0m\u001b[0;32m   3793\u001b[0m \u001b[1;33m\u001b[0m\u001b[0m\n\u001b[0;32m   3794\u001b[0m     \u001b[1;31m# EagerTensor.numpy() will often make a copy to ensure memory safety.\u001b[0m\u001b[1;33m\u001b[0m\u001b[1;33m\u001b[0m\u001b[1;33m\u001b[0m\u001b[0m\n",
      "\u001b[1;32m~\\AppData\\Roaming\\Python\\Python37\\site-packages\\tensorflow\\python\\eager\\function.py\u001b[0m in \u001b[0;36m__call__\u001b[1;34m(self, *args, **kwargs)\u001b[0m\n\u001b[0;32m   1603\u001b[0m       \u001b[0mTypeError\u001b[0m\u001b[1;33m:\u001b[0m \u001b[0mFor\u001b[0m \u001b[0minvalid\u001b[0m \u001b[0mpositional\u001b[0m\u001b[1;33m/\u001b[0m\u001b[0mkeyword\u001b[0m \u001b[0margument\u001b[0m \u001b[0mcombinations\u001b[0m\u001b[1;33m.\u001b[0m\u001b[1;33m\u001b[0m\u001b[1;33m\u001b[0m\u001b[0m\n\u001b[0;32m   1604\u001b[0m     \"\"\"\n\u001b[1;32m-> 1605\u001b[1;33m     \u001b[1;32mreturn\u001b[0m \u001b[0mself\u001b[0m\u001b[1;33m.\u001b[0m\u001b[0m_call_impl\u001b[0m\u001b[1;33m(\u001b[0m\u001b[0margs\u001b[0m\u001b[1;33m,\u001b[0m \u001b[0mkwargs\u001b[0m\u001b[1;33m)\u001b[0m\u001b[1;33m\u001b[0m\u001b[1;33m\u001b[0m\u001b[0m\n\u001b[0m\u001b[0;32m   1606\u001b[0m \u001b[1;33m\u001b[0m\u001b[0m\n\u001b[0;32m   1607\u001b[0m   \u001b[1;32mdef\u001b[0m \u001b[0m_call_impl\u001b[0m\u001b[1;33m(\u001b[0m\u001b[0mself\u001b[0m\u001b[1;33m,\u001b[0m \u001b[0margs\u001b[0m\u001b[1;33m,\u001b[0m \u001b[0mkwargs\u001b[0m\u001b[1;33m,\u001b[0m \u001b[0mcancellation_manager\u001b[0m\u001b[1;33m=\u001b[0m\u001b[1;32mNone\u001b[0m\u001b[1;33m)\u001b[0m\u001b[1;33m:\u001b[0m\u001b[1;33m\u001b[0m\u001b[1;33m\u001b[0m\u001b[0m\n",
      "\u001b[1;32m~\\AppData\\Roaming\\Python\\Python37\\site-packages\\tensorflow\\python\\eager\\function.py\u001b[0m in \u001b[0;36m_call_impl\u001b[1;34m(self, args, kwargs, cancellation_manager)\u001b[0m\n\u001b[0;32m   1643\u001b[0m       raise TypeError(\"Keyword arguments {} unknown. Expected {}.\".format(\n\u001b[0;32m   1644\u001b[0m           list(kwargs.keys()), list(self._arg_keywords)))\n\u001b[1;32m-> 1645\u001b[1;33m     \u001b[1;32mreturn\u001b[0m \u001b[0mself\u001b[0m\u001b[1;33m.\u001b[0m\u001b[0m_call_flat\u001b[0m\u001b[1;33m(\u001b[0m\u001b[0margs\u001b[0m\u001b[1;33m,\u001b[0m \u001b[0mself\u001b[0m\u001b[1;33m.\u001b[0m\u001b[0mcaptured_inputs\u001b[0m\u001b[1;33m,\u001b[0m \u001b[0mcancellation_manager\u001b[0m\u001b[1;33m)\u001b[0m\u001b[1;33m\u001b[0m\u001b[1;33m\u001b[0m\u001b[0m\n\u001b[0m\u001b[0;32m   1646\u001b[0m \u001b[1;33m\u001b[0m\u001b[0m\n\u001b[0;32m   1647\u001b[0m   \u001b[1;32mdef\u001b[0m \u001b[0m_filtered_call\u001b[0m\u001b[1;33m(\u001b[0m\u001b[0mself\u001b[0m\u001b[1;33m,\u001b[0m \u001b[0margs\u001b[0m\u001b[1;33m,\u001b[0m \u001b[0mkwargs\u001b[0m\u001b[1;33m)\u001b[0m\u001b[1;33m:\u001b[0m\u001b[1;33m\u001b[0m\u001b[1;33m\u001b[0m\u001b[0m\n",
      "\u001b[1;32m~\\AppData\\Roaming\\Python\\Python37\\site-packages\\tensorflow\\python\\eager\\function.py\u001b[0m in \u001b[0;36m_call_flat\u001b[1;34m(self, args, captured_inputs, cancellation_manager)\u001b[0m\n\u001b[0;32m   1744\u001b[0m       \u001b[1;31m# No tape is watching; skip to running the function.\u001b[0m\u001b[1;33m\u001b[0m\u001b[1;33m\u001b[0m\u001b[1;33m\u001b[0m\u001b[0m\n\u001b[0;32m   1745\u001b[0m       return self._build_call_outputs(self._inference_function.call(\n\u001b[1;32m-> 1746\u001b[1;33m           ctx, args, cancellation_manager=cancellation_manager))\n\u001b[0m\u001b[0;32m   1747\u001b[0m     forward_backward = self._select_forward_and_backward_functions(\n\u001b[0;32m   1748\u001b[0m         \u001b[0margs\u001b[0m\u001b[1;33m,\u001b[0m\u001b[1;33m\u001b[0m\u001b[1;33m\u001b[0m\u001b[0m\n",
      "\u001b[1;32m~\\AppData\\Roaming\\Python\\Python37\\site-packages\\tensorflow\\python\\eager\\function.py\u001b[0m in \u001b[0;36mcall\u001b[1;34m(self, ctx, args, cancellation_manager)\u001b[0m\n\u001b[0;32m    596\u001b[0m               \u001b[0minputs\u001b[0m\u001b[1;33m=\u001b[0m\u001b[0margs\u001b[0m\u001b[1;33m,\u001b[0m\u001b[1;33m\u001b[0m\u001b[1;33m\u001b[0m\u001b[0m\n\u001b[0;32m    597\u001b[0m               \u001b[0mattrs\u001b[0m\u001b[1;33m=\u001b[0m\u001b[0mattrs\u001b[0m\u001b[1;33m,\u001b[0m\u001b[1;33m\u001b[0m\u001b[1;33m\u001b[0m\u001b[0m\n\u001b[1;32m--> 598\u001b[1;33m               ctx=ctx)\n\u001b[0m\u001b[0;32m    599\u001b[0m         \u001b[1;32melse\u001b[0m\u001b[1;33m:\u001b[0m\u001b[1;33m\u001b[0m\u001b[1;33m\u001b[0m\u001b[0m\n\u001b[0;32m    600\u001b[0m           outputs = execute.execute_with_cancellation(\n",
      "\u001b[1;32m~\\AppData\\Roaming\\Python\\Python37\\site-packages\\tensorflow\\python\\eager\\execute.py\u001b[0m in \u001b[0;36mquick_execute\u001b[1;34m(op_name, num_outputs, inputs, attrs, ctx, name)\u001b[0m\n\u001b[0;32m     58\u001b[0m     \u001b[0mctx\u001b[0m\u001b[1;33m.\u001b[0m\u001b[0mensure_initialized\u001b[0m\u001b[1;33m(\u001b[0m\u001b[1;33m)\u001b[0m\u001b[1;33m\u001b[0m\u001b[1;33m\u001b[0m\u001b[0m\n\u001b[0;32m     59\u001b[0m     tensors = pywrap_tfe.TFE_Py_Execute(ctx._handle, device_name, op_name,\n\u001b[1;32m---> 60\u001b[1;33m                                         inputs, attrs, num_outputs)\n\u001b[0m\u001b[0;32m     61\u001b[0m   \u001b[1;32mexcept\u001b[0m \u001b[0mcore\u001b[0m\u001b[1;33m.\u001b[0m\u001b[0m_NotOkStatusException\u001b[0m \u001b[1;32mas\u001b[0m \u001b[0me\u001b[0m\u001b[1;33m:\u001b[0m\u001b[1;33m\u001b[0m\u001b[1;33m\u001b[0m\u001b[0m\n\u001b[0;32m     62\u001b[0m     \u001b[1;32mif\u001b[0m \u001b[0mname\u001b[0m \u001b[1;32mis\u001b[0m \u001b[1;32mnot\u001b[0m \u001b[1;32mNone\u001b[0m\u001b[1;33m:\u001b[0m\u001b[1;33m\u001b[0m\u001b[1;33m\u001b[0m\u001b[0m\n",
      "\u001b[1;31mKeyboardInterrupt\u001b[0m: "
     ]
    }
   ],
   "source": [
    "#fit the model\n",
    "epochs = 50\n",
    "batch_size = 300\n",
    "\n",
    "history = model_rnn.fit(X_train, y_train, epochs=epochs, batch_size=batch_size, validation_data=(X_test, y_test))"
   ]
  },
  {
   "cell_type": "code",
   "execution_count": 50,
   "metadata": {
    "scrolled": true
   },
   "outputs": [
    {
     "data": {
      "image/png": "[encoded data removed]",
      "text/plain": [
       "<Figure size 432x288 with 1 Axes>"
      ]
     },
     "metadata": {
      "needs_background": "light"
     },
     "output_type": "display_data"
    },
    {
     "data": {
      "image/png": "[encoded data removed]",
      "text/plain": [
       "<Figure size 432x288 with 1 Axes>"
      ]
     },
     "metadata": {
      "needs_background": "light"
     },
     "output_type": "display_data"
    }
   ],
   "source": [
    "import matplotlib.pyplot as plt\n",
    "# summarize history for accuracy\n",
    "plt.plot(history.history['accuracy'])\n",
    "plt.title('model accuracy')\n",
    "plt.ylabel('accuracy')\n",
    "plt.xlabel('epoch')\n",
    "plt.show()\n",
    "# summarize history for loss\n",
    "plt.plot(history.history['loss'])\n",
    "plt.plot(history.history['val_loss'])\n",
    "plt.title('model loss')\n",
    "plt.ylabel('loss')\n",
    "plt.xlabel('epoch')\n",
    "\n",
    "plt.show()"
   ]
  },
  {
   "cell_type": "code",
   "execution_count": 52,
   "metadata": {},
   "outputs": [
    {
     "name": "stdout",
     "output_type": "stream",
     "text": [
      "Accuracy is: 74.01512136888182%\n"
     ]
    }
   ],
   "source": [
    "from sklearn.metrics import accuracy_score\n",
    "y_test_predicted = model_rnn.predict(X_test)\n",
    "y_test_predicted = np.where(y_test_predicted >= 0.5, 1, y_test_predicted)\n",
    "y_test_predicted = np.where(y_test_predicted < 0.5, 0, y_test_predicted)\n",
    "accuracy = accuracy_score(y_test, y_test_predicted)\n",
    "print('Accuracy is: '+ str(100*accuracy)+'%')"
   ]
  },
  {
   "cell_type": "code",
   "execution_count": 11,
   "metadata": {},
   "outputs": [
    {
     "name": "stdout",
     "output_type": "stream",
     "text": [
      "^C\n",
      "Note: you may need to restart the kernel to use updated packages.\n"
     ]
    }
   ],
   "source": [
    "pip uninstall keras"
   ]
  },
  {
   "cell_type": "code",
   "execution_count": 6,
   "metadata": {},
   "outputs": [
    {
     "name": "stdout",
     "output_type": "stream",
     "text": [
      "Collecting tensorflow-gpu==1.5\n",
      "Note: you may need to restart the kernel to use updated packages.\n"
     ]
    },
    {
     "name": "stderr",
     "output_type": "stream",
     "text": [
      "  Could not find a version that satisfies the requirement tensorflow-gpu==1.5 (from versions: 1.13.1, 1.13.2, 1.14.0, 1.15.0rc0, 1.15.0rc1, 1.15.0rc2, 1.15.0rc3, 1.15.0, 1.15.2, 1.15.3, 1.15.4, 2.0.0a0, 2.0.0b0, 2.0.0b1, 2.0.0rc0, 2.0.0rc1, 2.0.0rc2, 2.0.0, 2.0.1, 2.0.2, 2.0.3, 2.1.0rc0, 2.1.0rc1, 2.1.0rc2, 2.1.0, 2.1.1, 2.1.2, 2.2.0rc0, 2.2.0rc1, 2.2.0rc2, 2.2.0rc3, 2.2.0rc4, 2.2.0, 2.2.1, 2.3.0rc0, 2.3.0rc1, 2.3.0rc2, 2.3.0, 2.3.1, 2.4.0rc0, 2.4.0rc1, 2.4.0rc2, 2.4.0rc3, 2.4.0rc4, 2.4.0)\n",
      "No matching distribution found for tensorflow-gpu==1.5\n"
     ]
    }
   ],
   "source": [
    "pip install --upgrade --ignore-installed tensorflow-gpu==1.5"
   ]
  },
  {
   "cell_type": "code",
   "execution_count": 1,
   "metadata": {},
   "outputs": [
    {
     "ename": "ImportError",
     "evalue": "Traceback (most recent call last):\n  File \"C:\\Users\\jean_\\AppData\\Roaming\\Python\\Python37\\site-packages\\tensorflow\\python\\pywrap_tensorflow.py\", line 64, in <module>\n    from tensorflow.python._pywrap_tensorflow_internal import *\nImportError: DLL load failed: The specified module could not be found.\n\n\nFailed to load the native TensorFlow runtime.\n\nSee https://www.tensorflow.org/install/errors\n\nfor some common reasons and solutions.  Include the entire stack trace\nabove this error message when asking for help.",
     "output_type": "error",
     "traceback": [
      "\u001b[1;31m---------------------------------------------------------------------------\u001b[0m",
      "\u001b[1;31mImportError\u001b[0m                               Traceback (most recent call last)",
      "\u001b[1;32m~\\AppData\\Roaming\\Python\\Python37\\site-packages\\tensorflow\\python\\pywrap_tensorflow.py\u001b[0m in \u001b[0;36m<module>\u001b[1;34m\u001b[0m\n\u001b[0;32m     63\u001b[0m   \u001b[1;32mtry\u001b[0m\u001b[1;33m:\u001b[0m\u001b[1;33m\u001b[0m\u001b[1;33m\u001b[0m\u001b[0m\n\u001b[1;32m---> 64\u001b[1;33m     \u001b[1;32mfrom\u001b[0m \u001b[0mtensorflow\u001b[0m\u001b[1;33m.\u001b[0m\u001b[0mpython\u001b[0m\u001b[1;33m.\u001b[0m\u001b[0m_pywrap_tensorflow_internal\u001b[0m \u001b[1;32mimport\u001b[0m \u001b[1;33m*\u001b[0m\u001b[1;33m\u001b[0m\u001b[1;33m\u001b[0m\u001b[0m\n\u001b[0m\u001b[0;32m     65\u001b[0m   \u001b[1;31m# This try catch logic is because there is no bazel equivalent for py_extension.\u001b[0m\u001b[1;33m\u001b[0m\u001b[1;33m\u001b[0m\u001b[1;33m\u001b[0m\u001b[0m\n",
      "\u001b[1;31mImportError\u001b[0m: DLL load failed: The specified module could not be found.",
      "\nDuring handling of the above exception, another exception occurred:\n",
      "\u001b[1;31mImportError\u001b[0m                               Traceback (most recent call last)",
      "\u001b[1;32m<ipython-input-1-d6579f534729>\u001b[0m in \u001b[0;36m<module>\u001b[1;34m\u001b[0m\n\u001b[1;32m----> 1\u001b[1;33m \u001b[1;32mimport\u001b[0m \u001b[0mtensorflow\u001b[0m\u001b[1;33m\u001b[0m\u001b[1;33m\u001b[0m\u001b[0m\n\u001b[0m",
      "\u001b[1;32m~\\AppData\\Roaming\\Python\\Python37\\site-packages\\tensorflow\\__init__.py\u001b[0m in \u001b[0;36m<module>\u001b[1;34m\u001b[0m\n\u001b[0;32m     39\u001b[0m \u001b[1;32mimport\u001b[0m \u001b[0msys\u001b[0m \u001b[1;32mas\u001b[0m \u001b[0m_sys\u001b[0m\u001b[1;33m\u001b[0m\u001b[1;33m\u001b[0m\u001b[0m\n\u001b[0;32m     40\u001b[0m \u001b[1;33m\u001b[0m\u001b[0m\n\u001b[1;32m---> 41\u001b[1;33m \u001b[1;32mfrom\u001b[0m \u001b[0mtensorflow\u001b[0m\u001b[1;33m.\u001b[0m\u001b[0mpython\u001b[0m\u001b[1;33m.\u001b[0m\u001b[0mtools\u001b[0m \u001b[1;32mimport\u001b[0m \u001b[0mmodule_util\u001b[0m \u001b[1;32mas\u001b[0m \u001b[0m_module_util\u001b[0m\u001b[1;33m\u001b[0m\u001b[1;33m\u001b[0m\u001b[0m\n\u001b[0m\u001b[0;32m     42\u001b[0m \u001b[1;32mfrom\u001b[0m \u001b[0mtensorflow\u001b[0m\u001b[1;33m.\u001b[0m\u001b[0mpython\u001b[0m\u001b[1;33m.\u001b[0m\u001b[0mutil\u001b[0m\u001b[1;33m.\u001b[0m\u001b[0mlazy_loader\u001b[0m \u001b[1;32mimport\u001b[0m \u001b[0mLazyLoader\u001b[0m \u001b[1;32mas\u001b[0m \u001b[0m_LazyLoader\u001b[0m\u001b[1;33m\u001b[0m\u001b[1;33m\u001b[0m\u001b[0m\n\u001b[0;32m     43\u001b[0m \u001b[1;33m\u001b[0m\u001b[0m\n",
      "\u001b[1;32m~\\AppData\\Roaming\\Python\\Python37\\site-packages\\tensorflow\\python\\__init__.py\u001b[0m in \u001b[0;36m<module>\u001b[1;34m\u001b[0m\n\u001b[0;32m     37\u001b[0m \u001b[1;31m# go/tf-wildcard-import\u001b[0m\u001b[1;33m\u001b[0m\u001b[1;33m\u001b[0m\u001b[1;33m\u001b[0m\u001b[0m\n\u001b[0;32m     38\u001b[0m \u001b[1;31m# pylint: disable=wildcard-import,g-bad-import-order,g-import-not-at-top\u001b[0m\u001b[1;33m\u001b[0m\u001b[1;33m\u001b[0m\u001b[1;33m\u001b[0m\u001b[0m\n\u001b[1;32m---> 39\u001b[1;33m \u001b[1;32mfrom\u001b[0m \u001b[0mtensorflow\u001b[0m\u001b[1;33m.\u001b[0m\u001b[0mpython\u001b[0m \u001b[1;32mimport\u001b[0m \u001b[0mpywrap_tensorflow\u001b[0m \u001b[1;32mas\u001b[0m \u001b[0m_pywrap_tensorflow\u001b[0m\u001b[1;33m\u001b[0m\u001b[1;33m\u001b[0m\u001b[0m\n\u001b[0m\u001b[0;32m     40\u001b[0m \u001b[1;33m\u001b[0m\u001b[0m\n\u001b[0;32m     41\u001b[0m \u001b[1;32mfrom\u001b[0m \u001b[0mtensorflow\u001b[0m\u001b[1;33m.\u001b[0m\u001b[0mpython\u001b[0m\u001b[1;33m.\u001b[0m\u001b[0meager\u001b[0m \u001b[1;32mimport\u001b[0m \u001b[0mcontext\u001b[0m\u001b[1;33m\u001b[0m\u001b[1;33m\u001b[0m\u001b[0m\n",
      "\u001b[1;32m~\\AppData\\Roaming\\Python\\Python37\\site-packages\\tensorflow\\python\\pywrap_tensorflow.py\u001b[0m in \u001b[0;36m<module>\u001b[1;34m\u001b[0m\n\u001b[0;32m     81\u001b[0m \u001b[1;32mfor\u001b[0m \u001b[0msome\u001b[0m \u001b[0mcommon\u001b[0m \u001b[0mreasons\u001b[0m \u001b[1;32mand\u001b[0m \u001b[0msolutions\u001b[0m\u001b[1;33m.\u001b[0m  \u001b[0mInclude\u001b[0m \u001b[0mthe\u001b[0m \u001b[0mentire\u001b[0m \u001b[0mstack\u001b[0m \u001b[0mtrace\u001b[0m\u001b[1;33m\u001b[0m\u001b[1;33m\u001b[0m\u001b[0m\n\u001b[0;32m     82\u001b[0m above this error message when asking for help.\"\"\" % traceback.format_exc()\n\u001b[1;32m---> 83\u001b[1;33m   \u001b[1;32mraise\u001b[0m \u001b[0mImportError\u001b[0m\u001b[1;33m(\u001b[0m\u001b[0mmsg\u001b[0m\u001b[1;33m)\u001b[0m\u001b[1;33m\u001b[0m\u001b[1;33m\u001b[0m\u001b[0m\n\u001b[0m\u001b[0;32m     84\u001b[0m \u001b[1;33m\u001b[0m\u001b[0m\n\u001b[0;32m     85\u001b[0m \u001b[1;31m# pylint: enable=wildcard-import,g-import-not-at-top,unused-import,line-too-long\u001b[0m\u001b[1;33m\u001b[0m\u001b[1;33m\u001b[0m\u001b[1;33m\u001b[0m\u001b[0m\n",
      "\u001b[1;31mImportError\u001b[0m: Traceback (most recent call last):\n  File \"C:\\Users\\jean_\\AppData\\Roaming\\Python\\Python37\\site-packages\\tensorflow\\python\\pywrap_tensorflow.py\", line 64, in <module>\n    from tensorflow.python._pywrap_tensorflow_internal import *\nImportError: DLL load failed: The specified module could not be found.\n\n\nFailed to load the native TensorFlow runtime.\n\nSee https://www.tensorflow.org/install/errors\n\nfor some common reasons and solutions.  Include the entire stack trace\nabove this error message when asking for help."
     ]
    }
   ],
   "source": [
    "import tensorflow"
   ]
  },
  {
   "cell_type": "code",
   "execution_count": 2,
   "metadata": {},
   "outputs": [
    {
     "ename": "SyntaxError",
     "evalue": "invalid syntax (<ipython-input-2-6f51f63b44a2>, line 1)",
     "output_type": "error",
     "traceback": [
      "\u001b[1;36m  File \u001b[1;32m\"<ipython-input-2-6f51f63b44a2>\"\u001b[1;36m, line \u001b[1;32m1\u001b[0m\n\u001b[1;33m    `pip install tensorflow\u001b[0m\n\u001b[1;37m    ^\u001b[0m\n\u001b[1;31mSyntaxError\u001b[0m\u001b[1;31m:\u001b[0m invalid syntax\n"
     ]
    }
   ],
   "source": [
    "`pip install tensorflow"
   ]
  },
  {
   "cell_type": "code",
   "execution_count": 3,
   "metadata": {},
   "outputs": [
    {
     "name": "stdout",
     "output_type": "stream",
     "text": [
      "Requirement already satisfied: tensorflow in c:\\users\\jean_\\anaconda3\\envs\\nlp_course\\lib\\site-packages (2.4.0)\n",
      "Requirement already satisfied: tensorboard~=2.4 in c:\\users\\jean_\\anaconda3\\envs\\nlp_course\\lib\\site-packages (from tensorflow) (2.4.0)\n",
      "Requirement already satisfied: six~=1.15.0 in c:\\users\\jean_\\anaconda3\\envs\\nlp_course\\lib\\site-packages (from tensorflow) (1.15.0)\n",
      "Requirement already satisfied: typing-extensions~=3.7.4 in c:\\users\\jean_\\appdata\\roaming\\python\\python37\\site-packages (from tensorflow) (3.7.4.3)\n",
      "Requirement already satisfied: wheel~=0.35 in c:\\users\\jean_\\appdata\\roaming\\python\\python37\\site-packages (from tensorflow) (0.36.2)\n",
      "Requirement already satisfied: google-pasta~=0.2 in c:\\users\\jean_\\anaconda3\\envs\\nlp_course\\lib\\site-packages (from tensorflow) (0.2.0)\n",
      "Requirement already satisfied: wrapt~=1.12.1 in c:\\users\\jean_\\appdata\\roaming\\python\\python37\\site-packages (from tensorflow) (1.12.1)\n",
      "Requirement already satisfied: h5py~=2.10.0 in c:\\users\\jean_\\anaconda3\\envs\\nlp_course\\lib\\site-packages (from tensorflow) (2.10.0)\n",
      "Requirement already satisfied: keras-preprocessing~=1.1.2 in c:\\users\\jean_\\appdata\\roaming\\python\\python37\\site-packages (from tensorflow) (1.1.2)\n",
      "Requirement already satisfied: opt-einsum~=3.3.0 in c:\\users\\jean_\\anaconda3\\envs\\nlp_course\\lib\\site-packages (from tensorflow) (3.3.0)\n",
      "Requirement already satisfied: flatbuffers~=1.12.0 in c:\\users\\jean_\\appdata\\roaming\\python\\python37\\site-packages (from tensorflow) (1.12)\n",
      "Requirement already satisfied: termcolor~=1.1.0 in c:\\users\\jean_\\anaconda3\\envs\\nlp_course\\lib\\site-packages (from tensorflow) (1.1.0)\n",
      "Requirement already satisfied: astunparse~=1.6.3 in c:\\users\\jean_\\appdata\\roaming\\python\\python37\\site-packages (from tensorflow) (1.6.3)\n",
      "Requirement already satisfied: grpcio~=1.32.0 in c:\\users\\jean_\\appdata\\roaming\\python\\python37\\site-packages (from tensorflow) (1.32.0)\n",
      "Requirement already satisfied: protobuf>=3.9.2 in c:\\users\\jean_\\anaconda3\\envs\\nlp_course\\lib\\site-packages (from tensorflow) (3.12.3)\n",
      "Requirement already satisfied: numpy~=1.19.2 in c:\\users\\jean_\\anaconda3\\envs\\nlp_course\\lib\\site-packages (from tensorflow) (1.19.3)\n",
      "Requirement already satisfied: tensorflow-estimator<2.5.0,>=2.4.0rc0 in c:\\users\\jean_\\anaconda3\\envs\\nlp_course\\lib\\site-packages (from tensorflow) (2.4.0)\n",
      "Requirement already satisfied: absl-py~=0.10 in c:\\users\\jean_\\appdata\\roaming\\python\\python37\\site-packages (from tensorflow) (0.11.0)\n",
      "Requirement already satisfied: gast==0.3.3 in c:\\users\\jean_\\anaconda3\\envs\\nlp_course\\lib\\site-packages (from tensorflow) (0.3.3)\n",
      "Requirement already satisfied: setuptools>=41.0.0 in c:\\users\\jean_\\anaconda3\\envs\\nlp_course\\lib\\site-packages (from tensorboard~=2.4->tensorflow) (49.2.0.post20200714)\n",
      "Requirement already satisfied: google-auth<2,>=1.6.3 in c:\\users\\jean_\\anaconda3\\envs\\nlp_course\\lib\\site-packages (from tensorboard~=2.4->tensorflow) (1.23.0)\n",
      "Requirement already satisfied: markdown>=2.6.8 in c:\\users\\jean_\\anaconda3\\envs\\nlp_course\\lib\\site-packages (from tensorboard~=2.4->tensorflow) (3.1.1)\n",
      "Requirement already satisfied: requests<3,>=2.21.0 in c:\\users\\jean_\\anaconda3\\envs\\nlp_course\\lib\\site-packages (from tensorboard~=2.4->tensorflow) (2.24.0)\n",
      "Requirement already satisfied: google-auth-oauthlib<0.5,>=0.4.1 in c:\\users\\jean_\\anaconda3\\envs\\nlp_course\\lib\\site-packages (from tensorboard~=2.4->tensorflow) (0.4.2)\n",
      "Requirement already satisfied: werkzeug>=0.11.15 in c:\\users\\jean_\\anaconda3\\envs\\nlp_course\\lib\\site-packages (from tensorboard~=2.4->tensorflow) (1.0.1)\n",
      "Requirement already satisfied: tensorboard-plugin-wit>=1.6.0 in c:\\users\\jean_\\appdata\\roaming\\python\\python37\\site-packages (from tensorboard~=2.4->tensorflow) (1.7.0)\n",
      "Requirement already satisfied: rsa<5,>=3.1.4; python_version >= \"3.5\" in c:\\users\\jean_\\anaconda3\\envs\\nlp_course\\lib\\site-packages (from google-auth<2,>=1.6.3->tensorboard~=2.4->tensorflow) (4.6)\n",
      "Requirement already satisfied: cachetools<5.0,>=2.0.0 in c:\\users\\jean_\\anaconda3\\envs\\nlp_course\\lib\\site-packages (from google-auth<2,>=1.6.3->tensorboard~=2.4->tensorflow) (4.1.1)\n",
      "Requirement already satisfied: pyasn1-modules>=0.2.1 in c:\\users\\jean_\\anaconda3\\envs\\nlp_course\\lib\\site-packages (from google-auth<2,>=1.6.3->tensorboard~=2.4->tensorflow) (0.2.8)\n",
      "Requirement already satisfied: idna<3,>=2.5 in c:\\users\\jean_\\anaconda3\\envs\\nlp_course\\lib\\site-packages (from requests<3,>=2.21.0->tensorboard~=2.4->tensorflow) (2.10)\n",
      "Requirement already satisfied: certifi>=2017.4.17 in c:\\users\\jean_\\anaconda3\\envs\\nlp_course\\lib\\site-packages (from requests<3,>=2.21.0->tensorboard~=2.4->tensorflow) (2020.12.5)\n",
      "Requirement already satisfied: urllib3!=1.25.0,!=1.25.1,<1.26,>=1.21.1 in c:\\users\\jean_\\anaconda3\\envs\\nlp_course\\lib\\site-packages (from requests<3,>=2.21.0->tensorboard~=2.4->tensorflow) (1.25.9)\n",
      "Requirement already satisfied: chardet<4,>=3.0.2 in c:\\users\\jean_\\anaconda3\\envs\\nlp_course\\lib\\site-packages (from requests<3,>=2.21.0->tensorboard~=2.4->tensorflow) (3.0.4)\n",
      "Requirement already satisfied: requests-oauthlib>=0.7.0 in c:\\users\\jean_\\anaconda3\\envs\\nlp_course\\lib\\site-packages (from google-auth-oauthlib<0.5,>=0.4.1->tensorboard~=2.4->tensorflow) (1.3.0)\n",
      "Requirement already satisfied: pyasn1>=0.1.3 in c:\\users\\jean_\\anaconda3\\envs\\nlp_course\\lib\\site-packages (from rsa<5,>=3.1.4; python_version >= \"3.5\"->google-auth<2,>=1.6.3->tensorboard~=2.4->tensorflow) (0.4.8)\n",
      "Requirement already satisfied: oauthlib>=3.0.0 in c:\\users\\jean_\\anaconda3\\envs\\nlp_course\\lib\\site-packages (from requests-oauthlib>=0.7.0->google-auth-oauthlib<0.5,>=0.4.1->tensorboard~=2.4->tensorflow) (3.1.0)\n",
      "Note: you may need to restart the kernel to use updated packages.\n"
     ]
    }
   ],
   "source": [
    "pip install tensorflow"
   ]
  },
  {
   "cell_type": "code",
   "execution_count": 2,
   "metadata": {},
   "outputs": [
    {
     "ename": "ImportError",
     "evalue": "cannot import name 'pywrap_tensorflow' from 'tensorflow.python' (C:\\Users\\jean_\\AppData\\Roaming\\Python\\Python37\\site-packages\\tensorflow\\python\\__init__.py)",
     "output_type": "error",
     "traceback": [
      "\u001b[1;31m---------------------------------------------------------------------------\u001b[0m",
      "\u001b[1;31mImportError\u001b[0m                               Traceback (most recent call last)",
      "\u001b[1;32m<ipython-input-2-d6579f534729>\u001b[0m in \u001b[0;36m<module>\u001b[1;34m\u001b[0m\n\u001b[1;32m----> 1\u001b[1;33m \u001b[1;32mimport\u001b[0m \u001b[0mtensorflow\u001b[0m\u001b[1;33m\u001b[0m\u001b[1;33m\u001b[0m\u001b[0m\n\u001b[0m",
      "\u001b[1;32m~\\AppData\\Roaming\\Python\\Python37\\site-packages\\tensorflow\\__init__.py\u001b[0m in \u001b[0;36m<module>\u001b[1;34m\u001b[0m\n\u001b[0;32m     39\u001b[0m \u001b[1;32mimport\u001b[0m \u001b[0msys\u001b[0m \u001b[1;32mas\u001b[0m \u001b[0m_sys\u001b[0m\u001b[1;33m\u001b[0m\u001b[1;33m\u001b[0m\u001b[0m\n\u001b[0;32m     40\u001b[0m \u001b[1;33m\u001b[0m\u001b[0m\n\u001b[1;32m---> 41\u001b[1;33m \u001b[1;32mfrom\u001b[0m \u001b[0mtensorflow\u001b[0m\u001b[1;33m.\u001b[0m\u001b[0mpython\u001b[0m\u001b[1;33m.\u001b[0m\u001b[0mtools\u001b[0m \u001b[1;32mimport\u001b[0m \u001b[0mmodule_util\u001b[0m \u001b[1;32mas\u001b[0m \u001b[0m_module_util\u001b[0m\u001b[1;33m\u001b[0m\u001b[1;33m\u001b[0m\u001b[0m\n\u001b[0m\u001b[0;32m     42\u001b[0m \u001b[1;32mfrom\u001b[0m \u001b[0mtensorflow\u001b[0m\u001b[1;33m.\u001b[0m\u001b[0mpython\u001b[0m\u001b[1;33m.\u001b[0m\u001b[0mutil\u001b[0m\u001b[1;33m.\u001b[0m\u001b[0mlazy_loader\u001b[0m \u001b[1;32mimport\u001b[0m \u001b[0mLazyLoader\u001b[0m \u001b[1;32mas\u001b[0m \u001b[0m_LazyLoader\u001b[0m\u001b[1;33m\u001b[0m\u001b[1;33m\u001b[0m\u001b[0m\n\u001b[0;32m     43\u001b[0m \u001b[1;33m\u001b[0m\u001b[0m\n",
      "\u001b[1;32m~\\AppData\\Roaming\\Python\\Python37\\site-packages\\tensorflow\\python\\__init__.py\u001b[0m in \u001b[0;36m<module>\u001b[1;34m\u001b[0m\n\u001b[0;32m     37\u001b[0m \u001b[1;31m# go/tf-wildcard-import\u001b[0m\u001b[1;33m\u001b[0m\u001b[1;33m\u001b[0m\u001b[1;33m\u001b[0m\u001b[0m\n\u001b[0;32m     38\u001b[0m \u001b[1;31m# pylint: disable=wildcard-import,g-bad-import-order,g-import-not-at-top\u001b[0m\u001b[1;33m\u001b[0m\u001b[1;33m\u001b[0m\u001b[1;33m\u001b[0m\u001b[0m\n\u001b[1;32m---> 39\u001b[1;33m \u001b[1;32mfrom\u001b[0m \u001b[0mtensorflow\u001b[0m\u001b[1;33m.\u001b[0m\u001b[0mpython\u001b[0m \u001b[1;32mimport\u001b[0m \u001b[0mpywrap_tensorflow\u001b[0m \u001b[1;32mas\u001b[0m \u001b[0m_pywrap_tensorflow\u001b[0m\u001b[1;33m\u001b[0m\u001b[1;33m\u001b[0m\u001b[0m\n\u001b[0m\u001b[0;32m     40\u001b[0m \u001b[1;33m\u001b[0m\u001b[0m\n\u001b[0;32m     41\u001b[0m \u001b[1;32mfrom\u001b[0m \u001b[0mtensorflow\u001b[0m\u001b[1;33m.\u001b[0m\u001b[0mpython\u001b[0m\u001b[1;33m.\u001b[0m\u001b[0meager\u001b[0m \u001b[1;32mimport\u001b[0m \u001b[0mcontext\u001b[0m\u001b[1;33m\u001b[0m\u001b[1;33m\u001b[0m\u001b[0m\n",
      "\u001b[1;31mImportError\u001b[0m: cannot import name 'pywrap_tensorflow' from 'tensorflow.python' (C:\\Users\\jean_\\AppData\\Roaming\\Python\\Python37\\site-packages\\tensorflow\\python\\__init__.py)"
     ]
    }
   ],
   "source": [
    "import tensorflow"
   ]
  },
  {
   "cell_type": "code",
   "execution_count": 3,
   "metadata": {},
   "outputs": [
    {
     "name": "stdout",
     "output_type": "stream",
     "text": [
      "Requirement already satisfied: numpy in c:\\users\\jean_\\anaconda3\\lib\\site-packages (1.19.4)\n",
      "Note: you may need to restart the kernel to use updated packages.\n"
     ]
    }
   ],
   "source": [
    "pip install numpy"
   ]
  },
  {
   "cell_type": "code",
   "execution_count": null,
   "metadata": {},
   "outputs": [],
   "source": []
  }
 ],
 "metadata": {
  "kernelspec": {
   "display_name": "Python 3",
   "language": "python",
   "name": "python3"
  },
  "language_info": {
   "codemirror_mode": {
    "name": "ipython",
    "version": 3
   },
   "file_extension": ".py",
   "mimetype": "text/x-python",
   "name": "python",
   "nbconvert_exporter": "python",
   "pygments_lexer": "ipython3",
   "version": "3.7.9"
  }
 },
 "nbformat": 4,
 "nbformat_minor": 4
}
